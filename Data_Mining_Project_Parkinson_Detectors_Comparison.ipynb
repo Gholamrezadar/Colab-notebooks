{
  "nbformat": 4,
  "nbformat_minor": 0,
  "metadata": {
    "colab": {
      "name": "Data Mining Project - Parkinson Detectors Comparison.ipynb",
      "provenance": [],
      "toc_visible": true,
      "authorship_tag": "ABX9TyOmE/gyZDOyo2jQD4fjt8Q0",
      "include_colab_link": true
    },
    "kernelspec": {
      "name": "python3",
      "display_name": "Python 3"
    },
    "language_info": {
      "name": "python"
    }
  },
  "cells": [
    {
      "cell_type": "markdown",
      "metadata": {
        "id": "view-in-github",
        "colab_type": "text"
      },
      "source": [
        "<a href=\"https://colab.research.google.com/github/Gholamrezadar/Colab-notebooks/blob/main/Data_Mining_Project_Parkinson_Detectors_Comparison.ipynb\" target=\"_parent\"><img src=\"https://colab.research.google.com/assets/colab-badge.svg\" alt=\"Open In Colab\"/></a>"
      ]
    },
    {
      "cell_type": "markdown",
      "metadata": {
        "id": "HBVRPXwI1VK3"
      },
      "source": [
        "## 0 - Parkinson Detector Project\n",
        "DataMining Class spring of 2021\n",
        "\n",
        "Gholamreza Dar 96405037\n",
        "\n",
        "6/13/2021\n",
        "\n",
        "Following Algorithms/methods are used to predict Parkinson's disease\n",
        "\n",
        "1.   KNN (K nearest neighbours)\n",
        "2.   SVM (Support vector machines)\n",
        "3.   Logistic regression\n",
        "4.   Naive bayes\n",
        "5.   Decision trees\n",
        "6.   Random Forest\n",
        "7.   Neureal networks\n",
        "\n",
        "section 3 offers a report that compares these methods.\n",
        "\n",
        "\n",
        "\n"
      ]
    },
    {
      "cell_type": "markdown",
      "metadata": {
        "id": "V_tA_gJexj-i"
      },
      "source": [
        "## 1 - Getting the data ready\n",
        "\n"
      ]
    },
    {
      "cell_type": "markdown",
      "metadata": {
        "id": "jSto6JTds9xq"
      },
      "source": [
        "### Downloading \"parkisons.data\" file"
      ]
    },
    {
      "cell_type": "code",
      "metadata": {
        "colab": {
          "base_uri": "https://localhost:8080/"
        },
        "id": "SBFXiWX4s1qM",
        "outputId": "102f95e4-e66f-4e05-c2ae-466e7728fdb7"
      },
      "source": [
        "!wget https://archive.ics.uci.edu/ml/machine-learning-databases/parkinsons/parkinsons.data"
      ],
      "execution_count": 130,
      "outputs": [
        {
          "output_type": "stream",
          "text": [
            "--2021-06-13 20:40:04--  https://archive.ics.uci.edu/ml/machine-learning-databases/parkinsons/parkinsons.data\n",
            "Resolving archive.ics.uci.edu (archive.ics.uci.edu)... 128.195.10.252\n",
            "Connecting to archive.ics.uci.edu (archive.ics.uci.edu)|128.195.10.252|:443... connected.\n",
            "HTTP request sent, awaiting response... 200 OK\n",
            "Length: 40697 (40K) [application/x-httpd-php]\n",
            "Saving to: ‘parkinsons.data.2’\n",
            "\n",
            "parkinsons.data.2   100%[===================>]  39.74K  --.-KB/s    in 0.03s   \n",
            "\n",
            "2021-06-13 20:40:04 (1.27 MB/s) - ‘parkinsons.data.2’ saved [40697/40697]\n",
            "\n"
          ],
          "name": "stdout"
        }
      ]
    },
    {
      "cell_type": "markdown",
      "metadata": {
        "id": "rGwFbIYztB7e"
      },
      "source": [
        "### Loading data into pandas dataframe"
      ]
    },
    {
      "cell_type": "code",
      "metadata": {
        "colab": {
          "base_uri": "https://localhost:8080/",
          "height": 0
        },
        "id": "DGWI4WSVs9Rw",
        "outputId": "7313dc07-74ce-4032-94ab-ac889dc8cfc9"
      },
      "source": [
        "import pandas as pd\n",
        "data = pd.read_csv(\"parkinsons.data\")\n",
        "data.head()"
      ],
      "execution_count": 131,
      "outputs": [
        {
          "output_type": "execute_result",
          "data": {
            "text/html": [
              "<div>\n",
              "<style scoped>\n",
              "    .dataframe tbody tr th:only-of-type {\n",
              "        vertical-align: middle;\n",
              "    }\n",
              "\n",
              "    .dataframe tbody tr th {\n",
              "        vertical-align: top;\n",
              "    }\n",
              "\n",
              "    .dataframe thead th {\n",
              "        text-align: right;\n",
              "    }\n",
              "</style>\n",
              "<table border=\"1\" class=\"dataframe\">\n",
              "  <thead>\n",
              "    <tr style=\"text-align: right;\">\n",
              "      <th></th>\n",
              "      <th>name</th>\n",
              "      <th>MDVP:Fo(Hz)</th>\n",
              "      <th>MDVP:Fhi(Hz)</th>\n",
              "      <th>MDVP:Flo(Hz)</th>\n",
              "      <th>MDVP:Jitter(%)</th>\n",
              "      <th>MDVP:Jitter(Abs)</th>\n",
              "      <th>MDVP:RAP</th>\n",
              "      <th>MDVP:PPQ</th>\n",
              "      <th>Jitter:DDP</th>\n",
              "      <th>MDVP:Shimmer</th>\n",
              "      <th>MDVP:Shimmer(dB)</th>\n",
              "      <th>Shimmer:APQ3</th>\n",
              "      <th>Shimmer:APQ5</th>\n",
              "      <th>MDVP:APQ</th>\n",
              "      <th>Shimmer:DDA</th>\n",
              "      <th>NHR</th>\n",
              "      <th>HNR</th>\n",
              "      <th>status</th>\n",
              "      <th>RPDE</th>\n",
              "      <th>DFA</th>\n",
              "      <th>spread1</th>\n",
              "      <th>spread2</th>\n",
              "      <th>D2</th>\n",
              "      <th>PPE</th>\n",
              "    </tr>\n",
              "  </thead>\n",
              "  <tbody>\n",
              "    <tr>\n",
              "      <th>0</th>\n",
              "      <td>phon_R01_S01_1</td>\n",
              "      <td>119.992</td>\n",
              "      <td>157.302</td>\n",
              "      <td>74.997</td>\n",
              "      <td>0.00784</td>\n",
              "      <td>0.00007</td>\n",
              "      <td>0.00370</td>\n",
              "      <td>0.00554</td>\n",
              "      <td>0.01109</td>\n",
              "      <td>0.04374</td>\n",
              "      <td>0.426</td>\n",
              "      <td>0.02182</td>\n",
              "      <td>0.03130</td>\n",
              "      <td>0.02971</td>\n",
              "      <td>0.06545</td>\n",
              "      <td>0.02211</td>\n",
              "      <td>21.033</td>\n",
              "      <td>1</td>\n",
              "      <td>0.414783</td>\n",
              "      <td>0.815285</td>\n",
              "      <td>-4.813031</td>\n",
              "      <td>0.266482</td>\n",
              "      <td>2.301442</td>\n",
              "      <td>0.284654</td>\n",
              "    </tr>\n",
              "    <tr>\n",
              "      <th>1</th>\n",
              "      <td>phon_R01_S01_2</td>\n",
              "      <td>122.400</td>\n",
              "      <td>148.650</td>\n",
              "      <td>113.819</td>\n",
              "      <td>0.00968</td>\n",
              "      <td>0.00008</td>\n",
              "      <td>0.00465</td>\n",
              "      <td>0.00696</td>\n",
              "      <td>0.01394</td>\n",
              "      <td>0.06134</td>\n",
              "      <td>0.626</td>\n",
              "      <td>0.03134</td>\n",
              "      <td>0.04518</td>\n",
              "      <td>0.04368</td>\n",
              "      <td>0.09403</td>\n",
              "      <td>0.01929</td>\n",
              "      <td>19.085</td>\n",
              "      <td>1</td>\n",
              "      <td>0.458359</td>\n",
              "      <td>0.819521</td>\n",
              "      <td>-4.075192</td>\n",
              "      <td>0.335590</td>\n",
              "      <td>2.486855</td>\n",
              "      <td>0.368674</td>\n",
              "    </tr>\n",
              "    <tr>\n",
              "      <th>2</th>\n",
              "      <td>phon_R01_S01_3</td>\n",
              "      <td>116.682</td>\n",
              "      <td>131.111</td>\n",
              "      <td>111.555</td>\n",
              "      <td>0.01050</td>\n",
              "      <td>0.00009</td>\n",
              "      <td>0.00544</td>\n",
              "      <td>0.00781</td>\n",
              "      <td>0.01633</td>\n",
              "      <td>0.05233</td>\n",
              "      <td>0.482</td>\n",
              "      <td>0.02757</td>\n",
              "      <td>0.03858</td>\n",
              "      <td>0.03590</td>\n",
              "      <td>0.08270</td>\n",
              "      <td>0.01309</td>\n",
              "      <td>20.651</td>\n",
              "      <td>1</td>\n",
              "      <td>0.429895</td>\n",
              "      <td>0.825288</td>\n",
              "      <td>-4.443179</td>\n",
              "      <td>0.311173</td>\n",
              "      <td>2.342259</td>\n",
              "      <td>0.332634</td>\n",
              "    </tr>\n",
              "    <tr>\n",
              "      <th>3</th>\n",
              "      <td>phon_R01_S01_4</td>\n",
              "      <td>116.676</td>\n",
              "      <td>137.871</td>\n",
              "      <td>111.366</td>\n",
              "      <td>0.00997</td>\n",
              "      <td>0.00009</td>\n",
              "      <td>0.00502</td>\n",
              "      <td>0.00698</td>\n",
              "      <td>0.01505</td>\n",
              "      <td>0.05492</td>\n",
              "      <td>0.517</td>\n",
              "      <td>0.02924</td>\n",
              "      <td>0.04005</td>\n",
              "      <td>0.03772</td>\n",
              "      <td>0.08771</td>\n",
              "      <td>0.01353</td>\n",
              "      <td>20.644</td>\n",
              "      <td>1</td>\n",
              "      <td>0.434969</td>\n",
              "      <td>0.819235</td>\n",
              "      <td>-4.117501</td>\n",
              "      <td>0.334147</td>\n",
              "      <td>2.405554</td>\n",
              "      <td>0.368975</td>\n",
              "    </tr>\n",
              "    <tr>\n",
              "      <th>4</th>\n",
              "      <td>phon_R01_S01_5</td>\n",
              "      <td>116.014</td>\n",
              "      <td>141.781</td>\n",
              "      <td>110.655</td>\n",
              "      <td>0.01284</td>\n",
              "      <td>0.00011</td>\n",
              "      <td>0.00655</td>\n",
              "      <td>0.00908</td>\n",
              "      <td>0.01966</td>\n",
              "      <td>0.06425</td>\n",
              "      <td>0.584</td>\n",
              "      <td>0.03490</td>\n",
              "      <td>0.04825</td>\n",
              "      <td>0.04465</td>\n",
              "      <td>0.10470</td>\n",
              "      <td>0.01767</td>\n",
              "      <td>19.649</td>\n",
              "      <td>1</td>\n",
              "      <td>0.417356</td>\n",
              "      <td>0.823484</td>\n",
              "      <td>-3.747787</td>\n",
              "      <td>0.234513</td>\n",
              "      <td>2.332180</td>\n",
              "      <td>0.410335</td>\n",
              "    </tr>\n",
              "  </tbody>\n",
              "</table>\n",
              "</div>"
            ],
            "text/plain": [
              "             name  MDVP:Fo(Hz)  MDVP:Fhi(Hz)  ...   spread2        D2       PPE\n",
              "0  phon_R01_S01_1      119.992       157.302  ...  0.266482  2.301442  0.284654\n",
              "1  phon_R01_S01_2      122.400       148.650  ...  0.335590  2.486855  0.368674\n",
              "2  phon_R01_S01_3      116.682       131.111  ...  0.311173  2.342259  0.332634\n",
              "3  phon_R01_S01_4      116.676       137.871  ...  0.334147  2.405554  0.368975\n",
              "4  phon_R01_S01_5      116.014       141.781  ...  0.234513  2.332180  0.410335\n",
              "\n",
              "[5 rows x 24 columns]"
            ]
          },
          "metadata": {
            "tags": []
          },
          "execution_count": 131
        }
      ]
    },
    {
      "cell_type": "markdown",
      "metadata": {
        "id": "irTaKKipuDoU"
      },
      "source": [
        "### Seperate input and output (X,Y)"
      ]
    },
    {
      "cell_type": "code",
      "metadata": {
        "colab": {
          "base_uri": "https://localhost:8080/"
        },
        "id": "uW8hB29juNXe",
        "outputId": "af04bdd7-2734-4f09-f39e-d81e8f1499e3"
      },
      "source": [
        "X = data.drop(columns=[\"name\", \"status\"])\n",
        "Y = data[\"status\"]\n",
        "print(len(X.columns), \"features\")"
      ],
      "execution_count": 132,
      "outputs": [
        {
          "output_type": "stream",
          "text": [
            "22 features\n"
          ],
          "name": "stdout"
        }
      ]
    },
    {
      "cell_type": "code",
      "metadata": {
        "colab": {
          "base_uri": "https://localhost:8080/",
          "height": 218
        },
        "id": "O7v4zJkIwxWR",
        "outputId": "3c1a34e0-417a-4096-c3b2-26bdd3600966"
      },
      "source": [
        "X.head()"
      ],
      "execution_count": 133,
      "outputs": [
        {
          "output_type": "execute_result",
          "data": {
            "text/html": [
              "<div>\n",
              "<style scoped>\n",
              "    .dataframe tbody tr th:only-of-type {\n",
              "        vertical-align: middle;\n",
              "    }\n",
              "\n",
              "    .dataframe tbody tr th {\n",
              "        vertical-align: top;\n",
              "    }\n",
              "\n",
              "    .dataframe thead th {\n",
              "        text-align: right;\n",
              "    }\n",
              "</style>\n",
              "<table border=\"1\" class=\"dataframe\">\n",
              "  <thead>\n",
              "    <tr style=\"text-align: right;\">\n",
              "      <th></th>\n",
              "      <th>MDVP:Fo(Hz)</th>\n",
              "      <th>MDVP:Fhi(Hz)</th>\n",
              "      <th>MDVP:Flo(Hz)</th>\n",
              "      <th>MDVP:Jitter(%)</th>\n",
              "      <th>MDVP:Jitter(Abs)</th>\n",
              "      <th>MDVP:RAP</th>\n",
              "      <th>MDVP:PPQ</th>\n",
              "      <th>Jitter:DDP</th>\n",
              "      <th>MDVP:Shimmer</th>\n",
              "      <th>MDVP:Shimmer(dB)</th>\n",
              "      <th>Shimmer:APQ3</th>\n",
              "      <th>Shimmer:APQ5</th>\n",
              "      <th>MDVP:APQ</th>\n",
              "      <th>Shimmer:DDA</th>\n",
              "      <th>NHR</th>\n",
              "      <th>HNR</th>\n",
              "      <th>RPDE</th>\n",
              "      <th>DFA</th>\n",
              "      <th>spread1</th>\n",
              "      <th>spread2</th>\n",
              "      <th>D2</th>\n",
              "      <th>PPE</th>\n",
              "    </tr>\n",
              "  </thead>\n",
              "  <tbody>\n",
              "    <tr>\n",
              "      <th>0</th>\n",
              "      <td>119.992</td>\n",
              "      <td>157.302</td>\n",
              "      <td>74.997</td>\n",
              "      <td>0.00784</td>\n",
              "      <td>0.00007</td>\n",
              "      <td>0.00370</td>\n",
              "      <td>0.00554</td>\n",
              "      <td>0.01109</td>\n",
              "      <td>0.04374</td>\n",
              "      <td>0.426</td>\n",
              "      <td>0.02182</td>\n",
              "      <td>0.03130</td>\n",
              "      <td>0.02971</td>\n",
              "      <td>0.06545</td>\n",
              "      <td>0.02211</td>\n",
              "      <td>21.033</td>\n",
              "      <td>0.414783</td>\n",
              "      <td>0.815285</td>\n",
              "      <td>-4.813031</td>\n",
              "      <td>0.266482</td>\n",
              "      <td>2.301442</td>\n",
              "      <td>0.284654</td>\n",
              "    </tr>\n",
              "    <tr>\n",
              "      <th>1</th>\n",
              "      <td>122.400</td>\n",
              "      <td>148.650</td>\n",
              "      <td>113.819</td>\n",
              "      <td>0.00968</td>\n",
              "      <td>0.00008</td>\n",
              "      <td>0.00465</td>\n",
              "      <td>0.00696</td>\n",
              "      <td>0.01394</td>\n",
              "      <td>0.06134</td>\n",
              "      <td>0.626</td>\n",
              "      <td>0.03134</td>\n",
              "      <td>0.04518</td>\n",
              "      <td>0.04368</td>\n",
              "      <td>0.09403</td>\n",
              "      <td>0.01929</td>\n",
              "      <td>19.085</td>\n",
              "      <td>0.458359</td>\n",
              "      <td>0.819521</td>\n",
              "      <td>-4.075192</td>\n",
              "      <td>0.335590</td>\n",
              "      <td>2.486855</td>\n",
              "      <td>0.368674</td>\n",
              "    </tr>\n",
              "    <tr>\n",
              "      <th>2</th>\n",
              "      <td>116.682</td>\n",
              "      <td>131.111</td>\n",
              "      <td>111.555</td>\n",
              "      <td>0.01050</td>\n",
              "      <td>0.00009</td>\n",
              "      <td>0.00544</td>\n",
              "      <td>0.00781</td>\n",
              "      <td>0.01633</td>\n",
              "      <td>0.05233</td>\n",
              "      <td>0.482</td>\n",
              "      <td>0.02757</td>\n",
              "      <td>0.03858</td>\n",
              "      <td>0.03590</td>\n",
              "      <td>0.08270</td>\n",
              "      <td>0.01309</td>\n",
              "      <td>20.651</td>\n",
              "      <td>0.429895</td>\n",
              "      <td>0.825288</td>\n",
              "      <td>-4.443179</td>\n",
              "      <td>0.311173</td>\n",
              "      <td>2.342259</td>\n",
              "      <td>0.332634</td>\n",
              "    </tr>\n",
              "    <tr>\n",
              "      <th>3</th>\n",
              "      <td>116.676</td>\n",
              "      <td>137.871</td>\n",
              "      <td>111.366</td>\n",
              "      <td>0.00997</td>\n",
              "      <td>0.00009</td>\n",
              "      <td>0.00502</td>\n",
              "      <td>0.00698</td>\n",
              "      <td>0.01505</td>\n",
              "      <td>0.05492</td>\n",
              "      <td>0.517</td>\n",
              "      <td>0.02924</td>\n",
              "      <td>0.04005</td>\n",
              "      <td>0.03772</td>\n",
              "      <td>0.08771</td>\n",
              "      <td>0.01353</td>\n",
              "      <td>20.644</td>\n",
              "      <td>0.434969</td>\n",
              "      <td>0.819235</td>\n",
              "      <td>-4.117501</td>\n",
              "      <td>0.334147</td>\n",
              "      <td>2.405554</td>\n",
              "      <td>0.368975</td>\n",
              "    </tr>\n",
              "    <tr>\n",
              "      <th>4</th>\n",
              "      <td>116.014</td>\n",
              "      <td>141.781</td>\n",
              "      <td>110.655</td>\n",
              "      <td>0.01284</td>\n",
              "      <td>0.00011</td>\n",
              "      <td>0.00655</td>\n",
              "      <td>0.00908</td>\n",
              "      <td>0.01966</td>\n",
              "      <td>0.06425</td>\n",
              "      <td>0.584</td>\n",
              "      <td>0.03490</td>\n",
              "      <td>0.04825</td>\n",
              "      <td>0.04465</td>\n",
              "      <td>0.10470</td>\n",
              "      <td>0.01767</td>\n",
              "      <td>19.649</td>\n",
              "      <td>0.417356</td>\n",
              "      <td>0.823484</td>\n",
              "      <td>-3.747787</td>\n",
              "      <td>0.234513</td>\n",
              "      <td>2.332180</td>\n",
              "      <td>0.410335</td>\n",
              "    </tr>\n",
              "  </tbody>\n",
              "</table>\n",
              "</div>"
            ],
            "text/plain": [
              "   MDVP:Fo(Hz)  MDVP:Fhi(Hz)  MDVP:Flo(Hz)  ...   spread2        D2       PPE\n",
              "0      119.992       157.302        74.997  ...  0.266482  2.301442  0.284654\n",
              "1      122.400       148.650       113.819  ...  0.335590  2.486855  0.368674\n",
              "2      116.682       131.111       111.555  ...  0.311173  2.342259  0.332634\n",
              "3      116.676       137.871       111.366  ...  0.334147  2.405554  0.368975\n",
              "4      116.014       141.781       110.655  ...  0.234513  2.332180  0.410335\n",
              "\n",
              "[5 rows x 22 columns]"
            ]
          },
          "metadata": {
            "tags": []
          },
          "execution_count": 133
        }
      ]
    },
    {
      "cell_type": "code",
      "metadata": {
        "colab": {
          "base_uri": "https://localhost:8080/"
        },
        "id": "A58rYjj4wxFv",
        "outputId": "b43926f2-6b6c-4744-fb63-3ddeb2f84a3f"
      },
      "source": [
        "Y.head()"
      ],
      "execution_count": 134,
      "outputs": [
        {
          "output_type": "execute_result",
          "data": {
            "text/plain": [
              "0    1\n",
              "1    1\n",
              "2    1\n",
              "3    1\n",
              "4    1\n",
              "Name: status, dtype: int64"
            ]
          },
          "metadata": {
            "tags": []
          },
          "execution_count": 134
        }
      ]
    },
    {
      "cell_type": "markdown",
      "metadata": {
        "id": "8aC4CBotxpsZ"
      },
      "source": [
        "### Seperate train, test \n",
        "80% train, 20% test\n"
      ]
    },
    {
      "cell_type": "code",
      "metadata": {
        "id": "CtrqfcIHx0sV"
      },
      "source": [
        "from sklearn.model_selection import train_test_split\n",
        "\n",
        "X_train, X_test, Y_train, Y_test = train_test_split(X, Y, test_size=0.20, random_state=6)"
      ],
      "execution_count": 135,
      "outputs": []
    },
    {
      "cell_type": "markdown",
      "metadata": {
        "id": "qf5BDkysyw-o"
      },
      "source": [
        "## 2 - Testing different Algorithms\n"
      ]
    },
    {
      "cell_type": "code",
      "metadata": {
        "id": "c3PUW6yn565r"
      },
      "source": [
        "scores = {\"KNN\":0,\n",
        "          \"SVM\":0,\n",
        "          \"Logistic Regression\":0,\n",
        "          \"Naive Bayes\":0,\n",
        "          \"Decision Tree\":0,\n",
        "          \"Random Forest\":0,\n",
        "          \"Neural Networks\":0}"
      ],
      "execution_count": 136,
      "outputs": []
    },
    {
      "cell_type": "markdown",
      "metadata": {
        "id": "0hLQvmjHzS1v"
      },
      "source": [
        "### 2.1 KNN"
      ]
    },
    {
      "cell_type": "code",
      "metadata": {
        "colab": {
          "base_uri": "https://localhost:8080/"
        },
        "id": "_-CEtbORzV58",
        "outputId": "3bf6a0d5-cc4b-4a12-fe68-3c132a75c4d0"
      },
      "source": [
        "from sklearn.neighbors import KNeighborsClassifier\n",
        "from sklearn.pipeline import make_pipeline\n",
        "from sklearn.preprocessing import StandardScaler\n",
        "\n",
        "# Preprocessing with StandardScaler then KNN \n",
        "KNN = make_pipeline(StandardScaler(), KNeighborsClassifier(n_neighbors=5))\n",
        "KNN.fit(X, Y)\n",
        "\n",
        "# result on test dataset\n",
        "score = KNN.score(X_test, Y_test)\n",
        "scores[\"KNN\"] = score\n",
        "print(\"KNN Score is :\", score)"
      ],
      "execution_count": 137,
      "outputs": [
        {
          "output_type": "stream",
          "text": [
            "KNN Score is : 0.9743589743589743\n"
          ],
          "name": "stdout"
        }
      ]
    },
    {
      "cell_type": "markdown",
      "metadata": {
        "id": "mFWPtfM5zTI5"
      },
      "source": [
        "### 2.2 SVM"
      ]
    },
    {
      "cell_type": "code",
      "metadata": {
        "colab": {
          "base_uri": "https://localhost:8080/"
        },
        "id": "jD3eInjH0Asq",
        "outputId": "61b49758-e967-4895-c6e2-146f187d51c7"
      },
      "source": [
        "from sklearn.svm import LinearSVC\n",
        "from sklearn.pipeline import make_pipeline\n",
        "from sklearn.preprocessing import StandardScaler\n",
        "\n",
        "# Preprocessing with StandardScaler then SVM \n",
        "SVM = make_pipeline(StandardScaler(), LinearSVC(random_state=0, tol=0.0025))\n",
        "SVM.fit(X, Y)\n",
        "\n",
        "# result on test dataset\n",
        "score = SVM.score(X_test, Y_test)\n",
        "scores[\"SVM\"] = score\n",
        "print(\"SVM Score is :\", score)"
      ],
      "execution_count": 138,
      "outputs": [
        {
          "output_type": "stream",
          "text": [
            "SVM Score is : 0.7948717948717948\n"
          ],
          "name": "stdout"
        }
      ]
    },
    {
      "cell_type": "markdown",
      "metadata": {
        "id": "6mJWOh0zzTg8"
      },
      "source": [
        "### 2.3 Logistic Regression"
      ]
    },
    {
      "cell_type": "code",
      "metadata": {
        "colab": {
          "base_uri": "https://localhost:8080/"
        },
        "id": "8jy9RxPT0ARw",
        "outputId": "1ce91eb9-50f9-46e9-a0df-6d16463f34f2"
      },
      "source": [
        "from sklearn.linear_model import LogisticRegression\n",
        "from sklearn.pipeline import make_pipeline\n",
        "from sklearn.preprocessing import StandardScaler\n",
        "\n",
        "# Preprocessing with StandardScaler then LogisticRegression \n",
        "LogReg = make_pipeline(StandardScaler(), LogisticRegression(random_state=0))\n",
        "LogReg.fit(X, Y)\n",
        "\n",
        "# result on test dataset\n",
        "score = LogReg.score(X_test, Y_test)\n",
        "scores[\"Logistic Regression\"] = score\n",
        "print(\"Logistic Regression Score is :\", score)"
      ],
      "execution_count": 139,
      "outputs": [
        {
          "output_type": "stream",
          "text": [
            "Logistic Regression Score is : 0.7692307692307693\n"
          ],
          "name": "stdout"
        }
      ]
    },
    {
      "cell_type": "markdown",
      "metadata": {
        "id": "6iS0tcnezUHp"
      },
      "source": [
        "### 2.4 Naïve Bayes"
      ]
    },
    {
      "cell_type": "code",
      "metadata": {
        "colab": {
          "base_uri": "https://localhost:8080/"
        },
        "id": "r2M7FmN2zWgU",
        "outputId": "a023a10e-316f-4656-f227-fe26eb3eedb3"
      },
      "source": [
        "from sklearn.naive_bayes import GaussianNB\n",
        "from sklearn.pipeline import make_pipeline\n",
        "from sklearn.preprocessing import StandardScaler\n",
        "\n",
        "# Preprocessing with StandardScaler then GaussianNaiveBayes \n",
        "NaiveBayes = make_pipeline(StandardScaler(), GaussianNB())\n",
        "NaiveBayes.fit(X, Y)\n",
        "\n",
        "# result on test dataset\n",
        "score = NaiveBayes.score(X_test, Y_test)\n",
        "scores[\"Naive Bayes\"] = score\n",
        "print(\"Naive Bayes Score is :\", score)"
      ],
      "execution_count": 140,
      "outputs": [
        {
          "output_type": "stream",
          "text": [
            "Naive Bayes Score is : 0.5897435897435898\n"
          ],
          "name": "stdout"
        }
      ]
    },
    {
      "cell_type": "markdown",
      "metadata": {
        "id": "0xMOwZ4By9ib"
      },
      "source": [
        "### 2.5 Decision Tree "
      ]
    },
    {
      "cell_type": "code",
      "metadata": {
        "colab": {
          "base_uri": "https://localhost:8080/",
          "height": 266
        },
        "id": "bTMcuX3bzWOr",
        "outputId": "4a2a81d3-2dd6-4388-d73b-764b246025c2"
      },
      "source": [
        "from sklearn.tree import DecisionTreeClassifier\n",
        "from sklearn import tree\n",
        "import matplotlib.pyplot as plt\n",
        "\n",
        "# Preprocessing with StandardScaler then DecisionTreeClassifier \n",
        "DecTree = DecisionTreeClassifier(max_depth=4)\n",
        "DecTree.fit(X, Y)\n",
        "\n",
        "# result on test dataset\n",
        "score = DecTree.score(X_test, Y_test)\n",
        "scores[\"Decision Tree\"] = score\n",
        "print(\"Decision Tree score is\", score)\n",
        "\n",
        "tree.plot_tree(DecTree)\n",
        "plt.show()"
      ],
      "execution_count": 141,
      "outputs": [
        {
          "output_type": "stream",
          "text": [
            "Decision Tree score is 1.0\n"
          ],
          "name": "stdout"
        },
        {
          "output_type": "display_data",
          "data": {
            "image/png": "[encoded data removed]",
            "text/plain": [
              "<Figure size 432x288 with 1 Axes>"
            ]
          },
          "metadata": {
            "tags": [],
            "needs_background": "light"
          }
        }
      ]
    },
    {
      "cell_type": "code",
      "metadata": {
        "colab": {
          "base_uri": "https://localhost:8080/"
        },
        "id": "DDS0EjuZAmdn",
        "outputId": "d1551210-7007-46ab-e39b-bb3fdd65be22"
      },
      "source": [
        "print(list(X_train.columns))"
      ],
      "execution_count": 142,
      "outputs": [
        {
          "output_type": "stream",
          "text": [
            "['MDVP:Fo(Hz)', 'MDVP:Fhi(Hz)', 'MDVP:Flo(Hz)', 'MDVP:Jitter(%)', 'MDVP:Jitter(Abs)', 'MDVP:RAP', 'MDVP:PPQ', 'Jitter:DDP', 'MDVP:Shimmer', 'MDVP:Shimmer(dB)', 'Shimmer:APQ3', 'Shimmer:APQ5', 'MDVP:APQ', 'Shimmer:DDA', 'NHR', 'HNR', 'RPDE', 'DFA', 'spread1', 'spread2', 'D2', 'PPE']\n"
          ],
          "name": "stdout"
        }
      ]
    },
    {
      "cell_type": "code",
      "metadata": {
        "colab": {
          "base_uri": "https://localhost:8080/",
          "height": 676
        },
        "id": "XEFbRuDl_vKB",
        "outputId": "c6610cc6-18b2-4371-845e-c99d088c0d23"
      },
      "source": [
        "# Visualizing with GraphViz\n",
        "import graphviz \n",
        "dot_data = tree.export_graphviz(DecTree, out_file=None) \n",
        "graph = graphviz.Source(dot_data) \n",
        "graph.render(\"Parkinson\") \n",
        "dot_data = tree.export_graphviz(DecTree, out_file=None, feature_names=list(X_train.columns),\n",
        "                      filled=True, rounded=True,  \n",
        "                      special_characters=True)  \n",
        "graph = graphviz.Source(dot_data)  \n",
        "graph"
      ],
      "execution_count": 143,
      "outputs": [
        {
          "output_type": "execute_result",
          "data": {
            "text/plain": [
              "<graphviz.files.Source at 0x7fb845301fd0>"
            ],
            "image/svg+xml": "<?xml version=\"1.0\" encoding=\"UTF-8\" standalone=\"no\"?>\n<!DOCTYPE svg PUBLIC \"-//W3C//DTD SVG 1.1//EN\"\n \"http://www.w3.org/Graphics/SVG/1.1/DTD/svg11.dtd\">\n<!-- Generated by graphviz version 2.40.1 (20161225.0304)\n -->\n<!-- Title: Tree Pages: 1 -->\n<svg width=\"1168pt\" height=\"477pt\"\n viewBox=\"0.00 0.00 1167.50 477.00\" xmlns=\"http://www.w3.org/2000/svg\" xmlns:xlink=\"http://www.w3.org/1999/xlink\">\n<g id=\"graph0\" class=\"graph\" transform=\"scale(1 1) rotate(0) translate(4 473)\">\n<title>Tree</title>\n<polygon fill=\"#ffffff\" stroke=\"transparent\" points=\"-4,4 -4,-473 1163.5,-473 1163.5,4 -4,4\"/>\n<!-- 0 -->\n<g id=\"node1\" class=\"node\">\n<title>0</title>\n<path fill=\"#7abded\" stroke=\"#000000\" d=\"M526.5,-469C526.5,-469 426.5,-469 426.5,-469 420.5,-469 414.5,-463 414.5,-457 414.5,-457 414.5,-413 414.5,-413 414.5,-407 420.5,-401 426.5,-401 426.5,-401 526.5,-401 526.5,-401 532.5,-401 538.5,-407 538.5,-413 538.5,-413 538.5,-457 538.5,-457 538.5,-463 532.5,-469 526.5,-469\"/>\n<text text-anchor=\"start\" x=\"435.5\" y=\"-453.8\" font-family=\"Helvetica,sans-Serif\" font-size=\"14.00\" fill=\"#000000\">PPE ≤ 0.134</text>\n<text text-anchor=\"start\" x=\"438.5\" y=\"-438.8\" font-family=\"Helvetica,sans-Serif\" font-size=\"14.00\" fill=\"#000000\">gini = 0.371</text>\n<text text-anchor=\"start\" x=\"428.5\" y=\"-423.8\" font-family=\"Helvetica,sans-Serif\" font-size=\"14.00\" fill=\"#000000\">samples = 195</text>\n<text text-anchor=\"start\" x=\"422.5\" y=\"-408.8\" font-family=\"Helvetica,sans-Serif\" font-size=\"14.00\" fill=\"#000000\">value = [48, 147]</text>\n</g>\n<!-- 1 -->\n<g id=\"node2\" class=\"node\">\n<title>1</title>\n<path fill=\"#eead7f\" stroke=\"#000000\" d=\"M418.5,-365C418.5,-365 272.5,-365 272.5,-365 266.5,-365 260.5,-359 260.5,-353 260.5,-353 260.5,-309 260.5,-309 260.5,-303 266.5,-297 272.5,-297 272.5,-297 418.5,-297 418.5,-297 424.5,-297 430.5,-303 430.5,-309 430.5,-309 430.5,-353 430.5,-353 430.5,-359 424.5,-365 418.5,-365\"/>\n<text text-anchor=\"start\" x=\"268.5\" y=\"-349.8\" font-family=\"Helvetica,sans-Serif\" font-size=\"14.00\" fill=\"#000000\">MDVP:Fhi(Hz) ≤ 202.31</text>\n<text text-anchor=\"start\" x=\"307.5\" y=\"-334.8\" font-family=\"Helvetica,sans-Serif\" font-size=\"14.00\" fill=\"#000000\">gini = 0.386</text>\n<text text-anchor=\"start\" x=\"301.5\" y=\"-319.8\" font-family=\"Helvetica,sans-Serif\" font-size=\"14.00\" fill=\"#000000\">samples = 46</text>\n<text text-anchor=\"start\" x=\"295.5\" y=\"-304.8\" font-family=\"Helvetica,sans-Serif\" font-size=\"14.00\" fill=\"#000000\">value = [34, 12]</text>\n</g>\n<!-- 0&#45;&gt;1 -->\n<g id=\"edge1\" class=\"edge\">\n<title>0&#45;&gt;1</title>\n<path fill=\"none\" stroke=\"#000000\" d=\"M433.6057,-400.9465C421.7307,-391.519 408.7259,-381.1946 396.4407,-371.4415\"/>\n<polygon fill=\"#000000\" stroke=\"#000000\" points=\"398.4989,-368.6066 388.4907,-365.13 394.1464,-374.089 398.4989,-368.6066\"/>\n<text text-anchor=\"middle\" x=\"391.3442\" y=\"-386.2666\" font-family=\"Helvetica,sans-Serif\" font-size=\"14.00\" fill=\"#000000\">True</text>\n</g>\n<!-- 10 -->\n<g id=\"node11\" class=\"node\">\n<title>10</title>\n<path fill=\"#4ea7e8\" stroke=\"#000000\" d=\"M716,-365C716,-365 571,-365 571,-365 565,-365 559,-359 559,-353 559,-353 559,-309 559,-309 559,-303 565,-297 571,-297 571,-297 716,-297 716,-297 722,-297 728,-303 728,-309 728,-309 728,-353 728,-353 728,-359 722,-365 716,-365\"/>\n<text text-anchor=\"start\" x=\"567\" y=\"-349.8\" font-family=\"Helvetica,sans-Serif\" font-size=\"14.00\" fill=\"#000000\">Shimmer:APQ5 ≤ 0.013</text>\n<text text-anchor=\"start\" x=\"610\" y=\"-334.8\" font-family=\"Helvetica,sans-Serif\" font-size=\"14.00\" fill=\"#000000\">gini = 0.17</text>\n<text text-anchor=\"start\" x=\"595.5\" y=\"-319.8\" font-family=\"Helvetica,sans-Serif\" font-size=\"14.00\" fill=\"#000000\">samples = 149</text>\n<text text-anchor=\"start\" x=\"589.5\" y=\"-304.8\" font-family=\"Helvetica,sans-Serif\" font-size=\"14.00\" fill=\"#000000\">value = [14, 135]</text>\n</g>\n<!-- 0&#45;&gt;10 -->\n<g id=\"edge10\" class=\"edge\">\n<title>0&#45;&gt;10</title>\n<path fill=\"none\" stroke=\"#000000\" d=\"M531.182,-400.9465C546.7529,-391.2497 563.8476,-380.6039 579.9004,-370.6069\"/>\n<polygon fill=\"#000000\" stroke=\"#000000\" points=\"582.0568,-373.3873 588.6951,-365.13 578.3563,-367.4453 582.0568,-373.3873\"/>\n<text text-anchor=\"middle\" x=\"583.0342\" y=\"-385.7807\" font-family=\"Helvetica,sans-Serif\" font-size=\"14.00\" fill=\"#000000\">False</text>\n</g>\n<!-- 2 -->\n<g id=\"node3\" class=\"node\">\n<title>2</title>\n<path fill=\"#b0d8f5\" stroke=\"#000000\" d=\"M217,-261C217,-261 132,-261 132,-261 126,-261 120,-255 120,-249 120,-249 120,-205 120,-205 120,-199 126,-193 132,-193 132,-193 217,-193 217,-193 223,-193 229,-199 229,-205 229,-205 229,-249 229,-249 229,-255 223,-261 217,-261\"/>\n<text text-anchor=\"start\" x=\"128\" y=\"-245.8\" font-family=\"Helvetica,sans-Serif\" font-size=\"14.00\" fill=\"#000000\">RPDE ≤ 0.459</text>\n<text text-anchor=\"start\" x=\"136.5\" y=\"-230.8\" font-family=\"Helvetica,sans-Serif\" font-size=\"14.00\" fill=\"#000000\">gini = 0.469</text>\n<text text-anchor=\"start\" x=\"130.5\" y=\"-215.8\" font-family=\"Helvetica,sans-Serif\" font-size=\"14.00\" fill=\"#000000\">samples = 16</text>\n<text text-anchor=\"start\" x=\"129\" y=\"-200.8\" font-family=\"Helvetica,sans-Serif\" font-size=\"14.00\" fill=\"#000000\">value = [6, 10]</text>\n</g>\n<!-- 1&#45;&gt;2 -->\n<g id=\"edge2\" class=\"edge\">\n<title>1&#45;&gt;2</title>\n<path fill=\"none\" stroke=\"#000000\" d=\"M289.5082,-296.9465C273.002,-286.9077 254.8235,-275.8517 237.8878,-265.5516\"/>\n<polygon fill=\"#000000\" stroke=\"#000000\" points=\"239.5229,-262.4496 229.1602,-260.2436 235.8854,-268.4304 239.5229,-262.4496\"/>\n</g>\n<!-- 5 -->\n<g id=\"node6\" class=\"node\">\n<title>5</title>\n<path fill=\"#e78a47\" stroke=\"#000000\" d=\"M394.5,-261C394.5,-261 296.5,-261 296.5,-261 290.5,-261 284.5,-255 284.5,-249 284.5,-249 284.5,-205 284.5,-205 284.5,-199 290.5,-193 296.5,-193 296.5,-193 394.5,-193 394.5,-193 400.5,-193 406.5,-199 406.5,-205 406.5,-205 406.5,-249 406.5,-249 406.5,-255 400.5,-261 394.5,-261\"/>\n<text text-anchor=\"start\" x=\"292.5\" y=\"-245.8\" font-family=\"Helvetica,sans-Serif\" font-size=\"14.00\" fill=\"#000000\">spread2 ≤ 0.244</text>\n<text text-anchor=\"start\" x=\"307.5\" y=\"-230.8\" font-family=\"Helvetica,sans-Serif\" font-size=\"14.00\" fill=\"#000000\">gini = 0.124</text>\n<text text-anchor=\"start\" x=\"301.5\" y=\"-215.8\" font-family=\"Helvetica,sans-Serif\" font-size=\"14.00\" fill=\"#000000\">samples = 30</text>\n<text text-anchor=\"start\" x=\"300\" y=\"-200.8\" font-family=\"Helvetica,sans-Serif\" font-size=\"14.00\" fill=\"#000000\">value = [28, 2]</text>\n</g>\n<!-- 1&#45;&gt;5 -->\n<g id=\"edge5\" class=\"edge\">\n<title>1&#45;&gt;5</title>\n<path fill=\"none\" stroke=\"#000000\" d=\"M345.5,-296.9465C345.5,-288.776 345.5,-279.9318 345.5,-271.3697\"/>\n<polygon fill=\"#000000\" stroke=\"#000000\" points=\"349.0001,-271.13 345.5,-261.13 342.0001,-271.13 349.0001,-271.13\"/>\n</g>\n<!-- 3 -->\n<g id=\"node4\" class=\"node\">\n<title>3</title>\n<path fill=\"#399de5\" stroke=\"#000000\" d=\"M95,-149.5C95,-149.5 12,-149.5 12,-149.5 6,-149.5 0,-143.5 0,-137.5 0,-137.5 0,-108.5 0,-108.5 0,-102.5 6,-96.5 12,-96.5 12,-96.5 95,-96.5 95,-96.5 101,-96.5 107,-102.5 107,-108.5 107,-108.5 107,-137.5 107,-137.5 107,-143.5 101,-149.5 95,-149.5\"/>\n<text text-anchor=\"start\" x=\"24\" y=\"-134.3\" font-family=\"Helvetica,sans-Serif\" font-size=\"14.00\" fill=\"#000000\">gini = 0.0</text>\n<text text-anchor=\"start\" x=\"9.5\" y=\"-119.3\" font-family=\"Helvetica,sans-Serif\" font-size=\"14.00\" fill=\"#000000\">samples = 10</text>\n<text text-anchor=\"start\" x=\"8\" y=\"-104.3\" font-family=\"Helvetica,sans-Serif\" font-size=\"14.00\" fill=\"#000000\">value = [0, 10]</text>\n</g>\n<!-- 2&#45;&gt;3 -->\n<g id=\"edge3\" class=\"edge\">\n<title>2&#45;&gt;3</title>\n<path fill=\"none\" stroke=\"#000000\" d=\"M134.8801,-192.9465C121.1676,-181.1606 105.8239,-167.9726 92.1873,-156.2519\"/>\n<polygon fill=\"#000000\" stroke=\"#000000\" points=\"94.2459,-153.4061 84.3808,-149.5422 89.6831,-158.7147 94.2459,-153.4061\"/>\n</g>\n<!-- 4 -->\n<g id=\"node5\" class=\"node\">\n<title>4</title>\n<path fill=\"#e58139\" stroke=\"#000000\" d=\"M212,-149.5C212,-149.5 137,-149.5 137,-149.5 131,-149.5 125,-143.5 125,-137.5 125,-137.5 125,-108.5 125,-108.5 125,-102.5 131,-96.5 137,-96.5 137,-96.5 212,-96.5 212,-96.5 218,-96.5 224,-102.5 224,-108.5 224,-108.5 224,-137.5 224,-137.5 224,-143.5 218,-149.5 212,-149.5\"/>\n<text text-anchor=\"start\" x=\"145\" y=\"-134.3\" font-family=\"Helvetica,sans-Serif\" font-size=\"14.00\" fill=\"#000000\">gini = 0.0</text>\n<text text-anchor=\"start\" x=\"135\" y=\"-119.3\" font-family=\"Helvetica,sans-Serif\" font-size=\"14.00\" fill=\"#000000\">samples = 6</text>\n<text text-anchor=\"start\" x=\"133\" y=\"-104.3\" font-family=\"Helvetica,sans-Serif\" font-size=\"14.00\" fill=\"#000000\">value = [6, 0]</text>\n</g>\n<!-- 2&#45;&gt;4 -->\n<g id=\"edge4\" class=\"edge\">\n<title>2&#45;&gt;4</title>\n<path fill=\"none\" stroke=\"#000000\" d=\"M174.5,-192.9465C174.5,-182.2621 174.5,-170.4254 174.5,-159.5742\"/>\n<polygon fill=\"#000000\" stroke=\"#000000\" points=\"178.0001,-159.5421 174.5,-149.5422 171.0001,-159.5422 178.0001,-159.5421\"/>\n</g>\n<!-- 6 -->\n<g id=\"node7\" class=\"node\">\n<title>6</title>\n<path fill=\"#e68640\" stroke=\"#000000\" d=\"M337,-157C337,-157 254,-157 254,-157 248,-157 242,-151 242,-145 242,-145 242,-101 242,-101 242,-95 248,-89 254,-89 254,-89 337,-89 337,-89 343,-89 349,-95 349,-101 349,-101 349,-145 349,-145 349,-151 343,-157 337,-157\"/>\n<text text-anchor=\"start\" x=\"260\" y=\"-141.8\" font-family=\"Helvetica,sans-Serif\" font-size=\"14.00\" fill=\"#000000\">D2 ≤ 2.809</text>\n<text text-anchor=\"start\" x=\"257.5\" y=\"-126.8\" font-family=\"Helvetica,sans-Serif\" font-size=\"14.00\" fill=\"#000000\">gini = 0.067</text>\n<text text-anchor=\"start\" x=\"251.5\" y=\"-111.8\" font-family=\"Helvetica,sans-Serif\" font-size=\"14.00\" fill=\"#000000\">samples = 29</text>\n<text text-anchor=\"start\" x=\"250\" y=\"-96.8\" font-family=\"Helvetica,sans-Serif\" font-size=\"14.00\" fill=\"#000000\">value = [28, 1]</text>\n</g>\n<!-- 5&#45;&gt;6 -->\n<g id=\"edge6\" class=\"edge\">\n<title>5&#45;&gt;6</title>\n<path fill=\"none\" stroke=\"#000000\" d=\"M329.1281,-192.9465C325.0274,-184.4169 320.5736,-175.153 316.2896,-166.2424\"/>\n<polygon fill=\"#000000\" stroke=\"#000000\" points=\"319.396,-164.626 311.9087,-157.13 313.0873,-167.6591 319.396,-164.626\"/>\n</g>\n<!-- 9 -->\n<g id=\"node10\" class=\"node\">\n<title>9</title>\n<path fill=\"#399de5\" stroke=\"#000000\" d=\"M454,-149.5C454,-149.5 379,-149.5 379,-149.5 373,-149.5 367,-143.5 367,-137.5 367,-137.5 367,-108.5 367,-108.5 367,-102.5 373,-96.5 379,-96.5 379,-96.5 454,-96.5 454,-96.5 460,-96.5 466,-102.5 466,-108.5 466,-108.5 466,-137.5 466,-137.5 466,-143.5 460,-149.5 454,-149.5\"/>\n<text text-anchor=\"start\" x=\"387\" y=\"-134.3\" font-family=\"Helvetica,sans-Serif\" font-size=\"14.00\" fill=\"#000000\">gini = 0.0</text>\n<text text-anchor=\"start\" x=\"377\" y=\"-119.3\" font-family=\"Helvetica,sans-Serif\" font-size=\"14.00\" fill=\"#000000\">samples = 1</text>\n<text text-anchor=\"start\" x=\"375\" y=\"-104.3\" font-family=\"Helvetica,sans-Serif\" font-size=\"14.00\" fill=\"#000000\">value = [0, 1]</text>\n</g>\n<!-- 5&#45;&gt;9 -->\n<g id=\"edge9\" class=\"edge\">\n<title>5&#45;&gt;9</title>\n<path fill=\"none\" stroke=\"#000000\" d=\"M368.7481,-192.9465C376.4182,-181.7113 384.9582,-169.2021 392.6711,-157.9043\"/>\n<polygon fill=\"#000000\" stroke=\"#000000\" points=\"395.6322,-159.7745 398.3799,-149.5422 389.8509,-155.8277 395.6322,-159.7745\"/>\n</g>\n<!-- 7 -->\n<g id=\"node8\" class=\"node\">\n<title>7</title>\n<path fill=\"#e58139\" stroke=\"#000000\" d=\"M256,-53C256,-53 173,-53 173,-53 167,-53 161,-47 161,-41 161,-41 161,-12 161,-12 161,-6 167,0 173,0 173,0 256,0 256,0 262,0 268,-6 268,-12 268,-12 268,-41 268,-41 268,-47 262,-53 256,-53\"/>\n<text text-anchor=\"start\" x=\"185\" y=\"-37.8\" font-family=\"Helvetica,sans-Serif\" font-size=\"14.00\" fill=\"#000000\">gini = 0.0</text>\n<text text-anchor=\"start\" x=\"170.5\" y=\"-22.8\" font-family=\"Helvetica,sans-Serif\" font-size=\"14.00\" fill=\"#000000\">samples = 28</text>\n<text text-anchor=\"start\" x=\"169\" y=\"-7.8\" font-family=\"Helvetica,sans-Serif\" font-size=\"14.00\" fill=\"#000000\">value = [28, 0]</text>\n</g>\n<!-- 6&#45;&gt;7 -->\n<g id=\"edge7\" class=\"edge\">\n<title>6&#45;&gt;7</title>\n<path fill=\"none\" stroke=\"#000000\" d=\"M266.9424,-88.9777C259.3331,-79.9123 251.1061,-70.111 243.4747,-61.0192\"/>\n<polygon fill=\"#000000\" stroke=\"#000000\" points=\"246.062,-58.6577 236.9521,-53.2485 240.7005,-63.1581 246.062,-58.6577\"/>\n</g>\n<!-- 8 -->\n<g id=\"node9\" class=\"node\">\n<title>8</title>\n<path fill=\"#399de5\" stroke=\"#000000\" d=\"M373,-53C373,-53 298,-53 298,-53 292,-53 286,-47 286,-41 286,-41 286,-12 286,-12 286,-6 292,0 298,0 298,0 373,0 373,0 379,0 385,-6 385,-12 385,-12 385,-41 385,-41 385,-47 379,-53 373,-53\"/>\n<text text-anchor=\"start\" x=\"306\" y=\"-37.8\" font-family=\"Helvetica,sans-Serif\" font-size=\"14.00\" fill=\"#000000\">gini = 0.0</text>\n<text text-anchor=\"start\" x=\"296\" y=\"-22.8\" font-family=\"Helvetica,sans-Serif\" font-size=\"14.00\" fill=\"#000000\">samples = 1</text>\n<text text-anchor=\"start\" x=\"294\" y=\"-7.8\" font-family=\"Helvetica,sans-Serif\" font-size=\"14.00\" fill=\"#000000\">value = [0, 1]</text>\n</g>\n<!-- 6&#45;&gt;8 -->\n<g id=\"edge8\" class=\"edge\">\n<title>6&#45;&gt;8</title>\n<path fill=\"none\" stroke=\"#000000\" d=\"M309.6025,-88.9777C313.1324,-80.4617 316.9316,-71.2963 320.5032,-62.6798\"/>\n<polygon fill=\"#000000\" stroke=\"#000000\" points=\"323.8166,-63.8265 324.4125,-53.2485 317.3501,-61.1461 323.8166,-63.8265\"/>\n</g>\n<!-- 11 -->\n<g id=\"node12\" class=\"node\">\n<title>11</title>\n<path fill=\"#80c0ee\" stroke=\"#000000\" d=\"M719,-261C719,-261 568,-261 568,-261 562,-261 556,-255 556,-249 556,-249 556,-205 556,-205 556,-199 562,-193 568,-193 568,-193 719,-193 719,-193 725,-193 731,-199 731,-205 731,-205 731,-249 731,-249 731,-255 725,-261 719,-261\"/>\n<text text-anchor=\"start\" x=\"564\" y=\"-245.8\" font-family=\"Helvetica,sans-Serif\" font-size=\"14.00\" fill=\"#000000\">MDVP:Fo(Hz) ≤ 117.986</text>\n<text text-anchor=\"start\" x=\"610\" y=\"-230.8\" font-family=\"Helvetica,sans-Serif\" font-size=\"14.00\" fill=\"#000000\">gini = 0.39</text>\n<text text-anchor=\"start\" x=\"599.5\" y=\"-215.8\" font-family=\"Helvetica,sans-Serif\" font-size=\"14.00\" fill=\"#000000\">samples = 49</text>\n<text text-anchor=\"start\" x=\"593.5\" y=\"-200.8\" font-family=\"Helvetica,sans-Serif\" font-size=\"14.00\" fill=\"#000000\">value = [13, 36]</text>\n</g>\n<!-- 10&#45;&gt;11 -->\n<g id=\"edge11\" class=\"edge\">\n<title>10&#45;&gt;11</title>\n<path fill=\"none\" stroke=\"#000000\" d=\"M643.5,-296.9465C643.5,-288.776 643.5,-279.9318 643.5,-271.3697\"/>\n<polygon fill=\"#000000\" stroke=\"#000000\" points=\"647.0001,-271.13 643.5,-261.13 640.0001,-271.13 647.0001,-271.13\"/>\n</g>\n<!-- 18 -->\n<g id=\"node19\" class=\"node\">\n<title>18</title>\n<path fill=\"#3b9ee5\" stroke=\"#000000\" d=\"M985,-261C985,-261 834,-261 834,-261 828,-261 822,-255 822,-249 822,-249 822,-205 822,-205 822,-199 828,-193 834,-193 834,-193 985,-193 985,-193 991,-193 997,-199 997,-205 997,-205 997,-249 997,-249 997,-255 991,-261 985,-261\"/>\n<text text-anchor=\"start\" x=\"830\" y=\"-245.8\" font-family=\"Helvetica,sans-Serif\" font-size=\"14.00\" fill=\"#000000\">MDVP:Fo(Hz) ≤ 208.799</text>\n<text text-anchor=\"start\" x=\"876\" y=\"-230.8\" font-family=\"Helvetica,sans-Serif\" font-size=\"14.00\" fill=\"#000000\">gini = 0.02</text>\n<text text-anchor=\"start\" x=\"861.5\" y=\"-215.8\" font-family=\"Helvetica,sans-Serif\" font-size=\"14.00\" fill=\"#000000\">samples = 100</text>\n<text text-anchor=\"start\" x=\"864\" y=\"-200.8\" font-family=\"Helvetica,sans-Serif\" font-size=\"14.00\" fill=\"#000000\">value = [1, 99]</text>\n</g>\n<!-- 10&#45;&gt;18 -->\n<g id=\"edge18\" class=\"edge\">\n<title>10&#45;&gt;18</title>\n<path fill=\"none\" stroke=\"#000000\" d=\"M728.0295,-297.9509C755.0914,-287.3703 785.2548,-275.5771 813.0978,-264.6911\"/>\n<polygon fill=\"#000000\" stroke=\"#000000\" points=\"814.4044,-267.9383 822.4434,-261.0372 811.8554,-261.4189 814.4044,-267.9383\"/>\n</g>\n<!-- 12 -->\n<g id=\"node13\" class=\"node\">\n<title>12</title>\n<path fill=\"#efb388\" stroke=\"#000000\" d=\"M647,-157C647,-157 496,-157 496,-157 490,-157 484,-151 484,-145 484,-145 484,-101 484,-101 484,-95 490,-89 496,-89 496,-89 647,-89 647,-89 653,-89 659,-95 659,-101 659,-101 659,-145 659,-145 659,-151 653,-157 647,-157\"/>\n<text text-anchor=\"start\" x=\"492\" y=\"-141.8\" font-family=\"Helvetica,sans-Serif\" font-size=\"14.00\" fill=\"#000000\">MDVP:Fo(Hz) ≤ 112.348</text>\n<text text-anchor=\"start\" x=\"533.5\" y=\"-126.8\" font-family=\"Helvetica,sans-Serif\" font-size=\"14.00\" fill=\"#000000\">gini = 0.408</text>\n<text text-anchor=\"start\" x=\"527.5\" y=\"-111.8\" font-family=\"Helvetica,sans-Serif\" font-size=\"14.00\" fill=\"#000000\">samples = 14</text>\n<text text-anchor=\"start\" x=\"526\" y=\"-96.8\" font-family=\"Helvetica,sans-Serif\" font-size=\"14.00\" fill=\"#000000\">value = [10, 4]</text>\n</g>\n<!-- 11&#45;&gt;12 -->\n<g id=\"edge12\" class=\"edge\">\n<title>11&#45;&gt;12</title>\n<path fill=\"none\" stroke=\"#000000\" d=\"M619.9245,-192.9465C613.8329,-184.1475 607.2004,-174.5672 600.8534,-165.3993\"/>\n<polygon fill=\"#000000\" stroke=\"#000000\" points=\"603.6983,-163.3597 595.1285,-157.13 597.9429,-167.3442 603.6983,-163.3597\"/>\n</g>\n<!-- 15 -->\n<g id=\"node16\" class=\"node\">\n<title>15</title>\n<path fill=\"#4ca6e7\" stroke=\"#000000\" d=\"M825.5,-157C825.5,-157 689.5,-157 689.5,-157 683.5,-157 677.5,-151 677.5,-145 677.5,-145 677.5,-101 677.5,-101 677.5,-95 683.5,-89 689.5,-89 689.5,-89 825.5,-89 825.5,-89 831.5,-89 837.5,-95 837.5,-101 837.5,-101 837.5,-145 837.5,-145 837.5,-151 831.5,-157 825.5,-157\"/>\n<text text-anchor=\"start\" x=\"685.5\" y=\"-141.8\" font-family=\"Helvetica,sans-Serif\" font-size=\"14.00\" fill=\"#000000\">Shimmer:DDA ≤ 0.036</text>\n<text text-anchor=\"start\" x=\"719.5\" y=\"-126.8\" font-family=\"Helvetica,sans-Serif\" font-size=\"14.00\" fill=\"#000000\">gini = 0.157</text>\n<text text-anchor=\"start\" x=\"713.5\" y=\"-111.8\" font-family=\"Helvetica,sans-Serif\" font-size=\"14.00\" fill=\"#000000\">samples = 35</text>\n<text text-anchor=\"start\" x=\"712\" y=\"-96.8\" font-family=\"Helvetica,sans-Serif\" font-size=\"14.00\" fill=\"#000000\">value = [3, 32]</text>\n</g>\n<!-- 11&#45;&gt;15 -->\n<g id=\"edge15\" class=\"edge\">\n<title>11&#45;&gt;15</title>\n<path fill=\"none\" stroke=\"#000000\" d=\"M680.8279,-192.9465C690.965,-183.6986 702.0483,-173.5876 712.5583,-163.9994\"/>\n<polygon fill=\"#000000\" stroke=\"#000000\" points=\"715.0595,-166.4553 720.0883,-157.13 710.3417,-161.284 715.0595,-166.4553\"/>\n</g>\n<!-- 13 -->\n<g id=\"node14\" class=\"node\">\n<title>13</title>\n<path fill=\"#6ab6ec\" stroke=\"#000000\" d=\"M522,-53C522,-53 447,-53 447,-53 441,-53 435,-47 435,-41 435,-41 435,-12 435,-12 435,-6 441,0 447,0 447,0 522,0 522,0 528,0 534,-6 534,-12 534,-12 534,-41 534,-41 534,-47 528,-53 522,-53\"/>\n<text text-anchor=\"start\" x=\"451\" y=\"-37.8\" font-family=\"Helvetica,sans-Serif\" font-size=\"14.00\" fill=\"#000000\">gini = 0.32</text>\n<text text-anchor=\"start\" x=\"445\" y=\"-22.8\" font-family=\"Helvetica,sans-Serif\" font-size=\"14.00\" fill=\"#000000\">samples = 5</text>\n<text text-anchor=\"start\" x=\"443\" y=\"-7.8\" font-family=\"Helvetica,sans-Serif\" font-size=\"14.00\" fill=\"#000000\">value = [1, 4]</text>\n</g>\n<!-- 12&#45;&gt;13 -->\n<g id=\"edge13\" class=\"edge\">\n<title>12&#45;&gt;13</title>\n<path fill=\"none\" stroke=\"#000000\" d=\"M540.8271,-88.9777C532.5715,-79.8207 523.6391,-69.9129 515.3728,-60.744\"/>\n<polygon fill=\"#000000\" stroke=\"#000000\" points=\"517.9108,-58.3321 508.6152,-53.2485 512.7117,-63.0193 517.9108,-58.3321\"/>\n</g>\n<!-- 14 -->\n<g id=\"node15\" class=\"node\">\n<title>14</title>\n<path fill=\"#e58139\" stroke=\"#000000\" d=\"M639,-53C639,-53 564,-53 564,-53 558,-53 552,-47 552,-41 552,-41 552,-12 552,-12 552,-6 558,0 564,0 564,0 639,0 639,0 645,0 651,-6 651,-12 651,-12 651,-41 651,-41 651,-47 645,-53 639,-53\"/>\n<text text-anchor=\"start\" x=\"572\" y=\"-37.8\" font-family=\"Helvetica,sans-Serif\" font-size=\"14.00\" fill=\"#000000\">gini = 0.0</text>\n<text text-anchor=\"start\" x=\"562\" y=\"-22.8\" font-family=\"Helvetica,sans-Serif\" font-size=\"14.00\" fill=\"#000000\">samples = 9</text>\n<text text-anchor=\"start\" x=\"560\" y=\"-7.8\" font-family=\"Helvetica,sans-Serif\" font-size=\"14.00\" fill=\"#000000\">value = [9, 0]</text>\n</g>\n<!-- 12&#45;&gt;14 -->\n<g id=\"edge14\" class=\"edge\">\n<title>12&#45;&gt;14</title>\n<path fill=\"none\" stroke=\"#000000\" d=\"M582.0769,-88.9777C584.6959,-80.5533 587.5124,-71.4934 590.1659,-62.9579\"/>\n<polygon fill=\"#000000\" stroke=\"#000000\" points=\"593.5579,-63.8367 593.1844,-53.2485 586.8735,-61.7586 593.5579,-63.8367\"/>\n</g>\n<!-- 16 -->\n<g id=\"node17\" class=\"node\">\n<title>16</title>\n<path fill=\"#3fa0e6\" stroke=\"#000000\" d=\"M775,-53C775,-53 692,-53 692,-53 686,-53 680,-47 680,-41 680,-41 680,-12 680,-12 680,-6 686,0 692,0 692,0 775,0 775,0 781,0 787,-6 787,-12 787,-12 787,-41 787,-41 787,-47 781,-53 775,-53\"/>\n<text text-anchor=\"start\" x=\"695.5\" y=\"-37.8\" font-family=\"Helvetica,sans-Serif\" font-size=\"14.00\" fill=\"#000000\">gini = 0.059</text>\n<text text-anchor=\"start\" x=\"689.5\" y=\"-22.8\" font-family=\"Helvetica,sans-Serif\" font-size=\"14.00\" fill=\"#000000\">samples = 33</text>\n<text text-anchor=\"start\" x=\"688\" y=\"-7.8\" font-family=\"Helvetica,sans-Serif\" font-size=\"14.00\" fill=\"#000000\">value = [1, 32]</text>\n</g>\n<!-- 15&#45;&gt;16 -->\n<g id=\"edge16\" class=\"edge\">\n<title>15&#45;&gt;16</title>\n<path fill=\"none\" stroke=\"#000000\" d=\"M749.0385,-88.9777C746.9433,-80.5533 744.6901,-71.4934 742.5673,-62.9579\"/>\n<polygon fill=\"#000000\" stroke=\"#000000\" points=\"745.9626,-62.1081 740.1525,-53.2485 739.1695,-63.7976 745.9626,-62.1081\"/>\n</g>\n<!-- 17 -->\n<g id=\"node18\" class=\"node\">\n<title>17</title>\n<path fill=\"#e58139\" stroke=\"#000000\" d=\"M892,-53C892,-53 817,-53 817,-53 811,-53 805,-47 805,-41 805,-41 805,-12 805,-12 805,-6 811,0 817,0 817,0 892,0 892,0 898,0 904,-6 904,-12 904,-12 904,-41 904,-41 904,-47 898,-53 892,-53\"/>\n<text text-anchor=\"start\" x=\"825\" y=\"-37.8\" font-family=\"Helvetica,sans-Serif\" font-size=\"14.00\" fill=\"#000000\">gini = 0.0</text>\n<text text-anchor=\"start\" x=\"815\" y=\"-22.8\" font-family=\"Helvetica,sans-Serif\" font-size=\"14.00\" fill=\"#000000\">samples = 2</text>\n<text text-anchor=\"start\" x=\"813\" y=\"-7.8\" font-family=\"Helvetica,sans-Serif\" font-size=\"14.00\" fill=\"#000000\">value = [2, 0]</text>\n</g>\n<!-- 15&#45;&gt;17 -->\n<g id=\"edge17\" class=\"edge\">\n<title>15&#45;&gt;17</title>\n<path fill=\"none\" stroke=\"#000000\" d=\"M791.6986,-88.9777C800.995,-79.7292 811.0614,-69.7147 820.3549,-60.4691\"/>\n<polygon fill=\"#000000\" stroke=\"#000000\" points=\"822.9921,-62.7825 827.6129,-53.2485 818.0551,-57.82 822.9921,-62.7825\"/>\n</g>\n<!-- 19 -->\n<g id=\"node20\" class=\"node\">\n<title>19</title>\n<path fill=\"#399de5\" stroke=\"#000000\" d=\"M951,-149.5C951,-149.5 868,-149.5 868,-149.5 862,-149.5 856,-143.5 856,-137.5 856,-137.5 856,-108.5 856,-108.5 856,-102.5 862,-96.5 868,-96.5 868,-96.5 951,-96.5 951,-96.5 957,-96.5 963,-102.5 963,-108.5 963,-108.5 963,-137.5 963,-137.5 963,-143.5 957,-149.5 951,-149.5\"/>\n<text text-anchor=\"start\" x=\"880\" y=\"-134.3\" font-family=\"Helvetica,sans-Serif\" font-size=\"14.00\" fill=\"#000000\">gini = 0.0</text>\n<text text-anchor=\"start\" x=\"865.5\" y=\"-119.3\" font-family=\"Helvetica,sans-Serif\" font-size=\"14.00\" fill=\"#000000\">samples = 98</text>\n<text text-anchor=\"start\" x=\"864\" y=\"-104.3\" font-family=\"Helvetica,sans-Serif\" font-size=\"14.00\" fill=\"#000000\">value = [0, 98]</text>\n</g>\n<!-- 18&#45;&gt;19 -->\n<g id=\"edge19\" class=\"edge\">\n<title>18&#45;&gt;19</title>\n<path fill=\"none\" stroke=\"#000000\" d=\"M909.5,-192.9465C909.5,-182.2621 909.5,-170.4254 909.5,-159.5742\"/>\n<polygon fill=\"#000000\" stroke=\"#000000\" points=\"913.0001,-159.5421 909.5,-149.5422 906.0001,-159.5422 913.0001,-159.5421\"/>\n</g>\n<!-- 20 -->\n<g id=\"node21\" class=\"node\">\n<title>20</title>\n<path fill=\"#ffffff\" stroke=\"#000000\" d=\"M1147.5,-157C1147.5,-157 993.5,-157 993.5,-157 987.5,-157 981.5,-151 981.5,-145 981.5,-145 981.5,-101 981.5,-101 981.5,-95 987.5,-89 993.5,-89 993.5,-89 1147.5,-89 1147.5,-89 1153.5,-89 1159.5,-95 1159.5,-101 1159.5,-101 1159.5,-145 1159.5,-145 1159.5,-151 1153.5,-157 1147.5,-157\"/>\n<text text-anchor=\"start\" x=\"989.5\" y=\"-141.8\" font-family=\"Helvetica,sans-Serif\" font-size=\"14.00\" fill=\"#000000\">MDVP:Fhi(Hz) ≤ 258.445</text>\n<text text-anchor=\"start\" x=\"1041\" y=\"-126.8\" font-family=\"Helvetica,sans-Serif\" font-size=\"14.00\" fill=\"#000000\">gini = 0.5</text>\n<text text-anchor=\"start\" x=\"1031\" y=\"-111.8\" font-family=\"Helvetica,sans-Serif\" font-size=\"14.00\" fill=\"#000000\">samples = 2</text>\n<text text-anchor=\"start\" x=\"1029\" y=\"-96.8\" font-family=\"Helvetica,sans-Serif\" font-size=\"14.00\" fill=\"#000000\">value = [1, 1]</text>\n</g>\n<!-- 18&#45;&gt;20 -->\n<g id=\"edge20\" class=\"edge\">\n<title>18&#45;&gt;20</title>\n<path fill=\"none\" stroke=\"#000000\" d=\"M962.2174,-192.9465C977.2288,-183.2497 993.7094,-172.6039 1009.1854,-162.6069\"/>\n<polygon fill=\"#000000\" stroke=\"#000000\" points=\"1011.1633,-165.496 1017.6641,-157.13 1007.3651,-159.6161 1011.1633,-165.496\"/>\n</g>\n<!-- 21 -->\n<g id=\"node22\" class=\"node\">\n<title>21</title>\n<path fill=\"#e58139\" stroke=\"#000000\" d=\"M1015,-53C1015,-53 940,-53 940,-53 934,-53 928,-47 928,-41 928,-41 928,-12 928,-12 928,-6 934,0 940,0 940,0 1015,0 1015,0 1021,0 1027,-6 1027,-12 1027,-12 1027,-41 1027,-41 1027,-47 1021,-53 1015,-53\"/>\n<text text-anchor=\"start\" x=\"948\" y=\"-37.8\" font-family=\"Helvetica,sans-Serif\" font-size=\"14.00\" fill=\"#000000\">gini = 0.0</text>\n<text text-anchor=\"start\" x=\"938\" y=\"-22.8\" font-family=\"Helvetica,sans-Serif\" font-size=\"14.00\" fill=\"#000000\">samples = 1</text>\n<text text-anchor=\"start\" x=\"936\" y=\"-7.8\" font-family=\"Helvetica,sans-Serif\" font-size=\"14.00\" fill=\"#000000\">value = [1, 0]</text>\n</g>\n<!-- 20&#45;&gt;21 -->\n<g id=\"edge21\" class=\"edge\">\n<title>20&#45;&gt;21</title>\n<path fill=\"none\" stroke=\"#000000\" d=\"M1037.7117,-88.9777C1028.7986,-79.7292 1019.1473,-69.7147 1010.2371,-60.4691\"/>\n<polygon fill=\"#000000\" stroke=\"#000000\" points=\"1012.7378,-58.0202 1003.2783,-53.2485 1007.6975,-62.8777 1012.7378,-58.0202\"/>\n</g>\n<!-- 22 -->\n<g id=\"node23\" class=\"node\">\n<title>22</title>\n<path fill=\"#399de5\" stroke=\"#000000\" d=\"M1132,-53C1132,-53 1057,-53 1057,-53 1051,-53 1045,-47 1045,-41 1045,-41 1045,-12 1045,-12 1045,-6 1051,0 1057,0 1057,0 1132,0 1132,0 1138,0 1144,-6 1144,-12 1144,-12 1144,-41 1144,-41 1144,-47 1138,-53 1132,-53\"/>\n<text text-anchor=\"start\" x=\"1065\" y=\"-37.8\" font-family=\"Helvetica,sans-Serif\" font-size=\"14.00\" fill=\"#000000\">gini = 0.0</text>\n<text text-anchor=\"start\" x=\"1055\" y=\"-22.8\" font-family=\"Helvetica,sans-Serif\" font-size=\"14.00\" fill=\"#000000\">samples = 1</text>\n<text text-anchor=\"start\" x=\"1053\" y=\"-7.8\" font-family=\"Helvetica,sans-Serif\" font-size=\"14.00\" fill=\"#000000\">value = [0, 1]</text>\n</g>\n<!-- 20&#45;&gt;22 -->\n<g id=\"edge22\" class=\"edge\">\n<title>20&#45;&gt;22</title>\n<path fill=\"none\" stroke=\"#000000\" d=\"M1078.9615,-88.9777C1081.0567,-80.5533 1083.3099,-71.4934 1085.4327,-62.9579\"/>\n<polygon fill=\"#000000\" stroke=\"#000000\" points=\"1088.8305,-63.7976 1087.8475,-53.2485 1082.0374,-62.1081 1088.8305,-63.7976\"/>\n</g>\n</g>\n</svg>\n"
          },
          "metadata": {
            "tags": []
          },
          "execution_count": 143
        }
      ]
    },
    {
      "cell_type": "markdown",
      "metadata": {
        "id": "TqKEjWgmz4MG"
      },
      "source": [
        "### 2.6 Random Forest"
      ]
    },
    {
      "cell_type": "code",
      "metadata": {
        "colab": {
          "base_uri": "https://localhost:8080/"
        },
        "id": "V1JuOQmBzXKi",
        "outputId": "3664373a-02b4-425b-9283-d4fb033094bd"
      },
      "source": [
        "from sklearn.ensemble import RandomForestClassifier\n",
        "\n",
        "forest = RandomForestClassifier(max_depth=4, n_estimators=6, max_features=2)\n",
        "forest.fit(X, Y)\n",
        "\n",
        "# result on test dataset\n",
        "score = forest.score(X_test, Y_test)\n",
        "scores[\"Random Forest\"] = score\n",
        "print(\"Random Forest score is\", score)"
      ],
      "execution_count": 144,
      "outputs": [
        {
          "output_type": "stream",
          "text": [
            "Random Forest score is 0.8974358974358975\n"
          ],
          "name": "stdout"
        }
      ]
    },
    {
      "cell_type": "markdown",
      "metadata": {
        "id": "11eNzDaF0jg-"
      },
      "source": [
        "### 2.7 Neural Networks"
      ]
    },
    {
      "cell_type": "code",
      "metadata": {
        "colab": {
          "base_uri": "https://localhost:8080/"
        },
        "id": "CZq_ZQvy0j4D",
        "outputId": "92c2a67a-12d8-43bc-e237-d33e45187e84"
      },
      "source": [
        "from sklearn.neural_network import MLPClassifier\n",
        "from sklearn.pipeline import make_pipeline\n",
        "from sklearn.preprocessing import StandardScaler\n",
        "\n",
        "# Preprocessing with StandardScaler then MLP \n",
        "NN = make_pipeline(StandardScaler(), MLPClassifier(alpha=1, max_iter=1000))\n",
        "NN.fit(X, Y)\n",
        "\n",
        "# result on test dataset\n",
        "score = NN.score(X_test, Y_test)\n",
        "scores[\"Neural Networks\"] = score\n",
        "print(\"Neural Networks Score is :\", score)"
      ],
      "execution_count": 145,
      "outputs": [
        {
          "output_type": "stream",
          "text": [
            "Neural Networks Score is : 0.9743589743589743\n"
          ],
          "name": "stdout"
        }
      ]
    },
    {
      "cell_type": "markdown",
      "metadata": {
        "id": "jvPWLkfO00Pp"
      },
      "source": [
        "## 3 - Comparisons and final results\n"
      ]
    },
    {
      "cell_type": "code",
      "metadata": {
        "colab": {
          "base_uri": "https://localhost:8080/"
        },
        "id": "YLbNjgVsFspr",
        "outputId": "9662f116-16b3-4d9b-9db9-9db6f0b2c401"
      },
      "source": [
        "list(scores.values())"
      ],
      "execution_count": 146,
      "outputs": [
        {
          "output_type": "execute_result",
          "data": {
            "text/plain": [
              "[0.9743589743589743,\n",
              " 0.7948717948717948,\n",
              " 0.7692307692307693,\n",
              " 0.5897435897435898,\n",
              " 1.0,\n",
              " 0.8974358974358975,\n",
              " 0.9743589743589743]"
            ]
          },
          "metadata": {
            "tags": []
          },
          "execution_count": 146
        }
      ]
    },
    {
      "cell_type": "code",
      "metadata": {
        "colab": {
          "base_uri": "https://localhost:8080/"
        },
        "id": "mkw2dbMFGXB8",
        "outputId": "d6b1869a-cb1e-45dd-dad4-1b260ade3478"
      },
      "source": [
        "list(scores.keys())"
      ],
      "execution_count": 147,
      "outputs": [
        {
          "output_type": "execute_result",
          "data": {
            "text/plain": [
              "['KNN',\n",
              " 'SVM',\n",
              " 'Logistic Regression',\n",
              " 'Naive Bayes',\n",
              " 'Decision Tree',\n",
              " 'Random Forest',\n",
              " 'Neural Networks']"
            ]
          },
          "metadata": {
            "tags": []
          },
          "execution_count": 147
        }
      ]
    },
    {
      "cell_type": "code",
      "metadata": {
        "id": "HVuwJ4ZhHkxN"
      },
      "source": [
        "!pip install ing_theme_matplotlib"
      ],
      "execution_count": null,
      "outputs": []
    },
    {
      "cell_type": "code",
      "metadata": {
        "colab": {
          "base_uri": "https://localhost:8080/",
          "height": 457
        },
        "id": "At6rFRQ-1SWr",
        "outputId": "e6358d59-7bfe-4d9f-dee1-f011adc5ee58"
      },
      "source": [
        "import matplotlib.pyplot as plt\n",
        "from ing_theme_matplotlib import mpl_style\n",
        "\n",
        "# styling\n",
        "plt.rcParams[\"figure.figsize\"] = (16,6)\n",
        "mpl_style(dark=True)\n",
        "plt.xticks(rotation=90)\n",
        "\n",
        "# plotting\n",
        "plt.bar(list(scores.keys()), list(scores.values()))\n",
        "\n",
        "# labels\n",
        "for index,data in enumerate([v.round(2) for v in list(scores.values())]):\n",
        "    plt.text(x=index-0.1 , y =0.05 , s=f\"{data}\" , fontdict=dict(fontsize=12))"
      ],
      "execution_count": 179,
      "outputs": [
        {
          "output_type": "display_data",
          "data": {
            "image/png": "[encoded data removed]",
            "text/plain": [
              "<Figure size 1152x432 with 1 Axes>"
            ]
          },
          "metadata": {
            "tags": []
          }
        }
      ]
    }
  ]
}