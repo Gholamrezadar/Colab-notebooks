{
  "nbformat": 4,
  "nbformat_minor": 0,
  "metadata": {
    "colab": {
      "name": "Tamrin 4 DataMining Gholamrezadar 96405037.ipynb",
      "provenance": [],
      "authorship_tag": "ABX9TyN6oDdHoOGQ+g8qZcLcMNcE",
      "include_colab_link": true
    },
    "kernelspec": {
      "name": "python3",
      "display_name": "Python 3"
    },
    "language_info": {
      "name": "python"
    }
  },
  "cells": [
    {
      "cell_type": "markdown",
      "metadata": {
        "id": "view-in-github",
        "colab_type": "text"
      },
      "source": [
        "<a href=\"https://colab.research.google.com/github/Gholamrezadar/Colab-notebooks/blob/main/Tamrin_4_DataMining_Gholamrezadar_96405037.ipynb\" target=\"_parent\"><img src=\"https://colab.research.google.com/assets/colab-badge.svg\" alt=\"Open In Colab\"/></a>"
      ]
    },
    {
      "cell_type": "markdown",
      "metadata": {
        "id": "Cltfbj2Jx7J-"
      },
      "source": [
        "## Gholamrezadar 5/23/2021\n",
        "Random K-Means clustring vs K-Means++\n",
        "\n",
        "using Silhouette and Knee method"
      ]
    },
    {
      "cell_type": "markdown",
      "metadata": {
        "id": "QBejR1yaySoX"
      },
      "source": [
        "### Loading dataset\n",
        "and creating numpy arrays"
      ]
    },
    {
      "cell_type": "code",
      "metadata": {
        "colab": {
          "base_uri": "https://localhost:8080/"
        },
        "id": "AXYBxb3y0iYz",
        "outputId": "2cbe79ad-7267-4a32-a98b-bbc6d53c8cee"
      },
      "source": [
        "!pip install kneed"
      ],
      "execution_count": 123,
      "outputs": [
        {
          "output_type": "stream",
          "text": [
            "Requirement already satisfied: kneed in /usr/local/lib/python3.7/dist-packages (0.7.0)\n",
            "Requirement already satisfied: matplotlib in /usr/local/lib/python3.7/dist-packages (from kneed) (3.2.2)\n",
            "Requirement already satisfied: scipy in /usr/local/lib/python3.7/dist-packages (from kneed) (1.4.1)\n",
            "Requirement already satisfied: numpy>=1.14.2 in /usr/local/lib/python3.7/dist-packages (from kneed) (1.19.5)\n",
            "Requirement already satisfied: python-dateutil>=2.1 in /usr/local/lib/python3.7/dist-packages (from matplotlib->kneed) (2.8.1)\n",
            "Requirement already satisfied: cycler>=0.10 in /usr/local/lib/python3.7/dist-packages (from matplotlib->kneed) (0.10.0)\n",
            "Requirement already satisfied: kiwisolver>=1.0.1 in /usr/local/lib/python3.7/dist-packages (from matplotlib->kneed) (1.3.1)\n",
            "Requirement already satisfied: pyparsing!=2.0.4,!=2.1.2,!=2.1.6,>=2.0.1 in /usr/local/lib/python3.7/dist-packages (from matplotlib->kneed) (2.4.7)\n",
            "Requirement already satisfied: six>=1.5 in /usr/local/lib/python3.7/dist-packages (from python-dateutil>=2.1->matplotlib->kneed) (1.15.0)\n"
          ],
          "name": "stdout"
        }
      ]
    },
    {
      "cell_type": "code",
      "metadata": {
        "id": "txWf52Lrm4mz"
      },
      "source": [
        "import matplotlib.pyplot as plt\n",
        "from kneed import KneeLocator\n",
        "from sklearn.cluster import KMeans\n",
        "from sklearn.metrics import silhouette_score\n",
        "from sklearn.preprocessing import StandardScaler\n",
        "import numpy as np\n",
        "import pandas as pd"
      ],
      "execution_count": 124,
      "outputs": []
    },
    {
      "cell_type": "code",
      "metadata": {
        "id": "fGI-_aNqpgZR"
      },
      "source": [
        "# loading data\n",
        "df = pd.DataFrame(pd.read_csv(\"fish.csv\"))\n",
        "\n",
        "# seperating features and labels\n",
        "features  = df.drop(['species'], axis = 1) \n",
        "labels  = df['species'] "
      ],
      "execution_count": 125,
      "outputs": []
    },
    {
      "cell_type": "code",
      "metadata": {
        "colab": {
          "base_uri": "https://localhost:8080/",
          "height": 198
        },
        "id": "Z85oi3YrrVXm",
        "outputId": "dc4e0d05-eb85-451d-b262-ee2a052b7471"
      },
      "source": [
        "features.head()"
      ],
      "execution_count": 126,
      "outputs": [
        {
          "output_type": "execute_result",
          "data": {
            "text/html": [
              "<div>\n",
              "<style scoped>\n",
              "    .dataframe tbody tr th:only-of-type {\n",
              "        vertical-align: middle;\n",
              "    }\n",
              "\n",
              "    .dataframe tbody tr th {\n",
              "        vertical-align: top;\n",
              "    }\n",
              "\n",
              "    .dataframe thead th {\n",
              "        text-align: right;\n",
              "    }\n",
              "</style>\n",
              "<table border=\"1\" class=\"dataframe\">\n",
              "  <thead>\n",
              "    <tr style=\"text-align: right;\">\n",
              "      <th></th>\n",
              "      <th>weight</th>\n",
              "      <th>length1</th>\n",
              "      <th>length2</th>\n",
              "      <th>length3</th>\n",
              "      <th>height</th>\n",
              "      <th>width</th>\n",
              "    </tr>\n",
              "  </thead>\n",
              "  <tbody>\n",
              "    <tr>\n",
              "      <th>0</th>\n",
              "      <td>242.0</td>\n",
              "      <td>23.2</td>\n",
              "      <td>25.4</td>\n",
              "      <td>30.0</td>\n",
              "      <td>38.4</td>\n",
              "      <td>13.4</td>\n",
              "    </tr>\n",
              "    <tr>\n",
              "      <th>1</th>\n",
              "      <td>290.0</td>\n",
              "      <td>24.0</td>\n",
              "      <td>26.3</td>\n",
              "      <td>31.2</td>\n",
              "      <td>40.0</td>\n",
              "      <td>13.8</td>\n",
              "    </tr>\n",
              "    <tr>\n",
              "      <th>2</th>\n",
              "      <td>340.0</td>\n",
              "      <td>23.9</td>\n",
              "      <td>26.5</td>\n",
              "      <td>31.1</td>\n",
              "      <td>39.8</td>\n",
              "      <td>15.1</td>\n",
              "    </tr>\n",
              "    <tr>\n",
              "      <th>3</th>\n",
              "      <td>363.0</td>\n",
              "      <td>26.3</td>\n",
              "      <td>29.0</td>\n",
              "      <td>33.5</td>\n",
              "      <td>38.0</td>\n",
              "      <td>13.3</td>\n",
              "    </tr>\n",
              "    <tr>\n",
              "      <th>4</th>\n",
              "      <td>430.0</td>\n",
              "      <td>26.5</td>\n",
              "      <td>29.0</td>\n",
              "      <td>34.0</td>\n",
              "      <td>36.6</td>\n",
              "      <td>15.1</td>\n",
              "    </tr>\n",
              "  </tbody>\n",
              "</table>\n",
              "</div>"
            ],
            "text/plain": [
              "   weight  length1  length2  length3  height  width\n",
              "0   242.0     23.2     25.4     30.0    38.4   13.4\n",
              "1   290.0     24.0     26.3     31.2    40.0   13.8\n",
              "2   340.0     23.9     26.5     31.1    39.8   15.1\n",
              "3   363.0     26.3     29.0     33.5    38.0   13.3\n",
              "4   430.0     26.5     29.0     34.0    36.6   15.1"
            ]
          },
          "metadata": {
            "tags": []
          },
          "execution_count": 126
        }
      ]
    },
    {
      "cell_type": "code",
      "metadata": {
        "colab": {
          "base_uri": "https://localhost:8080/"
        },
        "id": "UHAfiMLIrVOC",
        "outputId": "d96d7069-c6ec-4dd5-8985-805c15b52733"
      },
      "source": [
        "labels.head()"
      ],
      "execution_count": 127,
      "outputs": [
        {
          "output_type": "execute_result",
          "data": {
            "text/plain": [
              "0    Bream\n",
              "1    Bream\n",
              "2    Bream\n",
              "3    Bream\n",
              "4    Bream\n",
              "Name: species, dtype: object"
            ]
          },
          "metadata": {
            "tags": []
          },
          "execution_count": 127
        }
      ]
    },
    {
      "cell_type": "code",
      "metadata": {
        "id": "WLiq0zDbqfGw"
      },
      "source": [
        "# convert dataframe to numpy array\n",
        "features_array = features.values\n",
        "labels_array = labels.values"
      ],
      "execution_count": 128,
      "outputs": []
    },
    {
      "cell_type": "code",
      "metadata": {
        "colab": {
          "base_uri": "https://localhost:8080/"
        },
        "id": "Fq7C4QGKr88-",
        "outputId": "6bb43d5a-3a60-4390-ac3f-71523d8a77a1"
      },
      "source": [
        "# debug numpy arrays\n",
        "print(features_array[:5])\n",
        "print()\n",
        "print(labels_array[:5])"
      ],
      "execution_count": 129,
      "outputs": [
        {
          "output_type": "stream",
          "text": [
            "[[242.   23.2  25.4  30.   38.4  13.4]\n",
            " [290.   24.   26.3  31.2  40.   13.8]\n",
            " [340.   23.9  26.5  31.1  39.8  15.1]\n",
            " [363.   26.3  29.   33.5  38.   13.3]\n",
            " [430.   26.5  29.   34.   36.6  15.1]]\n",
            "\n",
            "['Bream' 'Bream' 'Bream' 'Bream' 'Bream']\n"
          ],
          "name": "stdout"
        }
      ]
    },
    {
      "cell_type": "code",
      "metadata": {
        "colab": {
          "base_uri": "https://localhost:8080/"
        },
        "id": "fvnObYC3sUiB",
        "outputId": "156840fe-01bd-414e-c48d-aa5f7124ea4b"
      },
      "source": [
        "# standardizations\n",
        "scaler = StandardScaler()\n",
        "scaled_features = scaler.fit_transform(features_array)\n",
        "print(scaled_features[:5])"
      ],
      "execution_count": 130,
      "outputs": [
        {
          "output_type": "stream",
          "text": [
            "[[-0.50109735 -0.36878558 -0.34323399 -0.23781518  1.0032125   0.25373964]\n",
            " [-0.37434344 -0.29750241 -0.26893461 -0.14634781  1.15869615  0.44376493]\n",
            " [-0.24230812 -0.30641281 -0.25242364 -0.15397009  1.13926069  1.0613471 ]\n",
            " [-0.18157187 -0.09256329 -0.04603648  0.02896467  0.96434159  0.20623332]\n",
            " [-0.00464454 -0.0747425  -0.04603648  0.06707608  0.8282934   1.0613471 ]]\n"
          ],
          "name": "stdout"
        }
      ]
    },
    {
      "cell_type": "markdown",
      "metadata": {
        "id": "oJeq-eCCz9CI"
      },
      "source": [
        "## Q1)"
      ]
    },
    {
      "cell_type": "markdown",
      "metadata": {
        "id": "nMueoDjetkJ_"
      },
      "source": [
        "### KMEANS"
      ]
    },
    {
      "cell_type": "code",
      "metadata": {
        "colab": {
          "base_uri": "https://localhost:8080/"
        },
        "id": "47X34LiJsnTx",
        "outputId": "66d9c45c-94b6-4128-be51-168531b85c24"
      },
      "source": [
        "# Kmeans Clustering once\n",
        "kmeans = KMeans(\n",
        "    init=\"random\",\n",
        "    n_clusters=4,\n",
        "    n_init=10,\n",
        "    max_iter=300,\n",
        "    random_state=1\n",
        ")\n",
        "kmeans.fit(scaled_features)"
      ],
      "execution_count": 131,
      "outputs": [
        {
          "output_type": "execute_result",
          "data": {
            "text/plain": [
              "KMeans(algorithm='auto', copy_x=True, init='random', max_iter=300, n_clusters=4,\n",
              "       n_init=10, n_jobs=None, precompute_distances='auto', random_state=1,\n",
              "       tol=0.0001, verbose=0)"
            ]
          },
          "metadata": {
            "tags": []
          },
          "execution_count": 131
        }
      ]
    },
    {
      "cell_type": "code",
      "metadata": {
        "colab": {
          "base_uri": "https://localhost:8080/"
        },
        "id": "G_TIsIYEu2iB",
        "outputId": "8fb2d0ba-70fd-44da-f170-758b74bd8c7e"
      },
      "source": [
        "# calculating Average K-Means Score with k=8\n",
        "\n",
        "# doing everything 10 times and calculating average silhouette_score\n",
        "kmeans_avg_score = 0\n",
        "num_tries = 10\n",
        "for i in range(num_tries):\n",
        "  # Kmeans Clustering\n",
        "  kmeans = KMeans(\n",
        "      init=\"random\",\n",
        "      n_clusters=8,\n",
        "      n_init=1,\n",
        "      max_iter=300,\n",
        "      random_state=i\n",
        "  )\n",
        "\n",
        "  kmeans.fit(scaled_features)\n",
        "\n",
        "  kmeans_avg_score += silhouette_score(\n",
        "      scaled_features, kmeans.labels_\n",
        "  )\n",
        "\n",
        "kmeans_avg_score /= num_tries\n",
        "kmeans_avg_score = kmeans_avg_score.round(4)\n",
        "print(\"K-Means average score\", kmeans_avg_score)"
      ],
      "execution_count": 132,
      "outputs": [
        {
          "output_type": "stream",
          "text": [
            "K-Means average score 0.4457\n"
          ],
          "name": "stdout"
        }
      ]
    },
    {
      "cell_type": "markdown",
      "metadata": {
        "id": "ZCF22ZFGthLD"
      },
      "source": [
        "\n",
        "### KMEANS++\n",
        "\n"
      ]
    },
    {
      "cell_type": "code",
      "metadata": {
        "colab": {
          "base_uri": "https://localhost:8080/"
        },
        "id": "RC4Sv4bTwlgi",
        "outputId": "8581229d-11cc-4992-a3f1-5a0e9cc993ac"
      },
      "source": [
        "# calculating Average K-Means++ Score with k=8\n",
        "\n",
        "# doing everything 10 times and calculating average silhouette_score\n",
        "kmeanspp_avg_score = 0\n",
        "num_tries = 10\n",
        "for i in range(num_tries):\n",
        "  # Kmeans Clustering\n",
        "  kmeanspp = KMeans(\n",
        "      init=\"k-means++\",\n",
        "      n_clusters=8,\n",
        "      n_init=1,\n",
        "      max_iter=300,\n",
        "      random_state=i\n",
        "  )\n",
        "  \n",
        "  kmeanspp.fit(scaled_features)\n",
        "\n",
        "  kmeanspp_avg_score += silhouette_score(\n",
        "      scaled_features, kmeanspp.labels_\n",
        "  )\n",
        "\n",
        "kmeanspp_avg_score /= num_tries\n",
        "kmeanspp_avg_score = kmeanspp_avg_score.round(4)\n",
        "print(\"K-Means++ average score\", kmeanspp_avg_score)"
      ],
      "execution_count": 133,
      "outputs": [
        {
          "output_type": "stream",
          "text": [
            "K-Means++ average score 0.4716\n"
          ],
          "name": "stdout"
        }
      ]
    },
    {
      "cell_type": "markdown",
      "metadata": {
        "id": "xrC5KSzp1dwA"
      },
      "source": [
        "### Comparison"
      ]
    },
    {
      "cell_type": "code",
      "metadata": {
        "colab": {
          "base_uri": "https://localhost:8080/",
          "height": 296
        },
        "id": "W12_ACbA1com",
        "outputId": "3f7d2f80-0257-4709-e72e-37caf5eecfc1"
      },
      "source": [
        "ax = plt.subplot()\n",
        "ax.set_ylim([.4, 0.5])\n",
        "ax.bar([\"K-Means\",\"K-Means++\"],[kmeans_avg_score,kmeanspp_avg_score])\n",
        "ax.set_title(\"K-Means vs K-Means++ \\naverage silhouette score\")\n",
        "plt.show()"
      ],
      "execution_count": 134,
      "outputs": [
        {
          "output_type": "display_data",
          "data": {
            "image/png": "[encoded data removed]",
            "text/plain": [
              "<Figure size 432x288 with 1 Axes>"
            ]
          },
          "metadata": {
            "tags": [],
            "needs_background": "light"
          }
        }
      ]
    },
    {
      "cell_type": "markdown",
      "metadata": {
        "id": "OF5fp-Oqz-mg"
      },
      "source": [
        "## Q2)"
      ]
    },
    {
      "cell_type": "markdown",
      "metadata": {
        "id": "kVzg0aPw0IZ4"
      },
      "source": [
        "### Knee Method\n",
        "Using Knee method to find the best cluster count"
      ]
    },
    {
      "cell_type": "code",
      "metadata": {
        "colab": {
          "base_uri": "https://localhost:8080/",
          "height": 279
        },
        "id": "GfxLGLLN0HRU",
        "outputId": "2189bdc1-2c97-46b6-d127-b29690802830"
      },
      "source": [
        "# keep track of error for each 'k'\n",
        "errors = []\n",
        "# find best 'k' between 1-15\n",
        "for k in range(1, 15):\n",
        "  kmeans = KMeans(\n",
        "      init=\"random\",\n",
        "      n_clusters=k,\n",
        "      n_init=10,\n",
        "      max_iter=300,\n",
        "      random_state=1)\n",
        "  kmeans.fit(scaled_features)\n",
        "  errors.append(kmeans.inertia_)\n",
        "\n",
        "plt.plot(range(1, 15), errors)\n",
        "plt.xticks(range(1, 15))\n",
        "plt.xlabel(\"K\")\n",
        "plt.ylabel(\"SSE\")\n",
        "plt.show()"
      ],
      "execution_count": 135,
      "outputs": [
        {
          "output_type": "display_data",
          "data": {
            "image/png": "[encoded data removed]",
            "text/plain": [
              "<Figure size 432x288 with 1 Axes>"
            ]
          },
          "metadata": {
            "tags": [],
            "needs_background": "light"
          }
        }
      ]
    },
    {
      "cell_type": "code",
      "metadata": {
        "colab": {
          "base_uri": "https://localhost:8080/"
        },
        "id": "C72Ot11a3Py3",
        "outputId": "da079f23-3234-4d50-9fb0-c4c268324bed"
      },
      "source": [
        "#finding best K\n",
        "kl = KneeLocator(\n",
        "    range(1, 15), errors, curve=\"convex\", direction=\"decreasing\"\n",
        ")\n",
        "\n",
        "print(\"Best K :\",kl.elbow)"
      ],
      "execution_count": 136,
      "outputs": [
        {
          "output_type": "stream",
          "text": [
            "Best K : 5\n"
          ],
          "name": "stdout"
        }
      ]
    }
  ]
}