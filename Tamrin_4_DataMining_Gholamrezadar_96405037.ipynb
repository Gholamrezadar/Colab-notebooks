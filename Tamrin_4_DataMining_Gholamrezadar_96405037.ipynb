{
  "nbformat": 4,
  "nbformat_minor": 0,
  "metadata": {
    "colab": {
      "name": "Tamrin 4 DataMining Gholamrezadar 96405037.ipynb",
      "provenance": [],
      "authorship_tag": "ABX9TyPhE/x+HTRvLqsq+NmtVV1m",
      "include_colab_link": true
    },
    "kernelspec": {
      "name": "python3",
      "display_name": "Python 3"
    },
    "language_info": {
      "name": "python"
    }
  },
  "cells": [
    {
      "cell_type": "markdown",
      "metadata": {
        "id": "view-in-github",
        "colab_type": "text"
      },
      "source": [
        "<a href=\"https://colab.research.google.com/github/Gholamrezadar/Colab-notebooks/blob/main/Tamrin_4_DataMining_Gholamrezadar_96405037.ipynb\" target=\"_parent\"><img src=\"https://colab.research.google.com/assets/colab-badge.svg\" alt=\"Open In Colab\"/></a>"
      ]
    },
    {
      "cell_type": "markdown",
      "metadata": {
        "id": "Cltfbj2Jx7J-"
      },
      "source": [
        "## Gholamrezadar 5/23/2021\n",
        "Random K-Means clustring vs K-Means++\n",
        "\n",
        "using Silhouette and Knee method\n",
        "\n",
        "ref : https://realpython.com/k-means-clustering-python/#how-to-perform-k-means-clustering-in-python"
      ]
    },
    {
      "cell_type": "markdown",
      "metadata": {
        "id": "QBejR1yaySoX"
      },
      "source": [
        "### Loading dataset\n",
        "and creating numpy arrays"
      ]
    },
    {
      "cell_type": "code",
      "metadata": {
        "id": "AXYBxb3y0iYz"
      },
      "source": [
        "!pip install kneed"
      ],
      "execution_count": null,
      "outputs": []
    },
    {
      "cell_type": "code",
      "metadata": {
        "id": "txWf52Lrm4mz"
      },
      "source": [
        "import matplotlib.pyplot as plt\n",
        "from kneed import KneeLocator\n",
        "from sklearn.cluster import KMeans\n",
        "from sklearn.metrics import silhouette_score\n",
        "from sklearn.preprocessing import StandardScaler\n",
        "import numpy as np\n",
        "import pandas as pd"
      ],
      "execution_count": 153,
      "outputs": []
    },
    {
      "cell_type": "code",
      "metadata": {
        "id": "fGI-_aNqpgZR"
      },
      "source": [
        "# loading data\n",
        "df = pd.DataFrame(pd.read_csv(\"fish.csv\"))\n",
        "\n",
        "# seperating features and labels\n",
        "features  = df.drop(['species'], axis = 1) \n",
        "labels  = df['species'] "
      ],
      "execution_count": 154,
      "outputs": []
    },
    {
      "cell_type": "code",
      "metadata": {
        "id": "Z85oi3YrrVXm"
      },
      "source": [
        "features.head()"
      ],
      "execution_count": null,
      "outputs": []
    },
    {
      "cell_type": "code",
      "metadata": {
        "id": "UHAfiMLIrVOC"
      },
      "source": [
        "labels.head()"
      ],
      "execution_count": null,
      "outputs": []
    },
    {
      "cell_type": "code",
      "metadata": {
        "id": "WLiq0zDbqfGw"
      },
      "source": [
        "# convert dataframe to numpy array\n",
        "features_array = features.values\n",
        "labels_array = labels.values"
      ],
      "execution_count": 157,
      "outputs": []
    },
    {
      "cell_type": "code",
      "metadata": {
        "id": "Fq7C4QGKr88-"
      },
      "source": [
        "# debug numpy arrays\n",
        "print(features_array[:5])\n",
        "print()\n",
        "print(labels_array[:5])"
      ],
      "execution_count": null,
      "outputs": []
    },
    {
      "cell_type": "code",
      "metadata": {
        "id": "fvnObYC3sUiB"
      },
      "source": [
        "# standardizations\n",
        "scaler = StandardScaler()\n",
        "scaled_features = scaler.fit_transform(features_array)\n",
        "print(scaled_features[:5])"
      ],
      "execution_count": null,
      "outputs": []
    },
    {
      "cell_type": "markdown",
      "metadata": {
        "id": "oJeq-eCCz9CI"
      },
      "source": [
        "## Q1)"
      ]
    },
    {
      "cell_type": "markdown",
      "metadata": {
        "id": "nMueoDjetkJ_"
      },
      "source": [
        "### KMEANS"
      ]
    },
    {
      "cell_type": "code",
      "metadata": {
        "id": "47X34LiJsnTx"
      },
      "source": [
        "# Kmeans Clustering once\n",
        "kmeans = KMeans(\n",
        "    init=\"random\",\n",
        "    n_clusters=4,\n",
        "    n_init=10,\n",
        "    max_iter=300,\n",
        "    random_state=1\n",
        ")\n",
        "kmeans.fit(scaled_features)"
      ],
      "execution_count": null,
      "outputs": []
    },
    {
      "cell_type": "code",
      "metadata": {
        "colab": {
          "base_uri": "https://localhost:8080/"
        },
        "id": "G_TIsIYEu2iB",
        "outputId": "371948eb-99f7-4c19-b35c-3d20240d98b8"
      },
      "source": [
        "# calculating Average K-Means Score with k=8\n",
        "\n",
        "# doing everything 10 times and calculating average silhouette_score\n",
        "kmeans_avg_score = 0\n",
        "num_tries = 10\n",
        "for i in range(num_tries):\n",
        "  # Kmeans Clustering\n",
        "  kmeans = KMeans(\n",
        "      init=\"random\",\n",
        "      n_clusters=8,\n",
        "      n_init=1,\n",
        "      max_iter=300,\n",
        "      random_state=i\n",
        "  )\n",
        "\n",
        "  kmeans.fit(scaled_features)\n",
        "\n",
        "  kmeans_avg_score += silhouette_score(\n",
        "      scaled_features, kmeans.labels_\n",
        "  )\n",
        "\n",
        "kmeans_avg_score /= num_tries\n",
        "kmeans_avg_score = kmeans_avg_score.round(4)\n",
        "print(\"K-Means average score\", kmeans_avg_score)"
      ],
      "execution_count": 161,
      "outputs": [
        {
          "output_type": "stream",
          "text": [
            "K-Means average score 0.4457\n"
          ],
          "name": "stdout"
        }
      ]
    },
    {
      "cell_type": "markdown",
      "metadata": {
        "id": "ZCF22ZFGthLD"
      },
      "source": [
        "\n",
        "### KMEANS++\n",
        "\n"
      ]
    },
    {
      "cell_type": "code",
      "metadata": {
        "colab": {
          "base_uri": "https://localhost:8080/"
        },
        "id": "RC4Sv4bTwlgi",
        "outputId": "153bc51e-f23f-4eaf-e325-abe9421f611f"
      },
      "source": [
        "# calculating Average K-Means++ Score with k=8\n",
        "\n",
        "# doing everything 10 times and calculating average silhouette_score\n",
        "kmeanspp_avg_score = 0\n",
        "num_tries = 10\n",
        "for i in range(num_tries):\n",
        "  # Kmeans Clustering\n",
        "  kmeanspp = KMeans(\n",
        "      init=\"k-means++\",\n",
        "      n_clusters=8,\n",
        "      n_init=1,\n",
        "      max_iter=300,\n",
        "      random_state=i\n",
        "  )\n",
        "  \n",
        "  kmeanspp.fit(scaled_features)\n",
        "\n",
        "  kmeanspp_avg_score += silhouette_score(\n",
        "      scaled_features, kmeanspp.labels_\n",
        "  )\n",
        "\n",
        "kmeanspp_avg_score /= num_tries\n",
        "kmeanspp_avg_score = kmeanspp_avg_score.round(4)\n",
        "print(\"K-Means++ average score\", kmeanspp_avg_score)"
      ],
      "execution_count": 162,
      "outputs": [
        {
          "output_type": "stream",
          "text": [
            "K-Means++ average score 0.4716\n"
          ],
          "name": "stdout"
        }
      ]
    },
    {
      "cell_type": "markdown",
      "metadata": {
        "id": "xrC5KSzp1dwA"
      },
      "source": [
        "### Comparison"
      ]
    },
    {
      "cell_type": "code",
      "metadata": {
        "colab": {
          "base_uri": "https://localhost:8080/",
          "height": 296
        },
        "id": "W12_ACbA1com",
        "outputId": "dee2d0cc-2f87-46fe-9bef-e57d3991a935"
      },
      "source": [
        "ax = plt.subplot()\n",
        "ax.set_ylim([.4, 0.5])\n",
        "ax.bar([\"K-Means\",\"K-Means++\"],[kmeans_avg_score,kmeanspp_avg_score])\n",
        "ax.set_title(\"K-Means vs K-Means++ \\naverage silhouette score\")\n",
        "plt.show()"
      ],
      "execution_count": 163,
      "outputs": [
        {
          "output_type": "display_data",
          "data": {
            "image/png": "[encoded data removed]",
            "text/plain": [
              "<Figure size 432x288 with 1 Axes>"
            ]
          },
          "metadata": {
            "tags": [],
            "needs_background": "light"
          }
        }
      ]
    },
    {
      "cell_type": "markdown",
      "metadata": {
        "id": "OF5fp-Oqz-mg"
      },
      "source": [
        "## Q2)"
      ]
    },
    {
      "cell_type": "markdown",
      "metadata": {
        "id": "kVzg0aPw0IZ4"
      },
      "source": [
        "### Elbow Method\n",
        "Using Elbow method to find the best cluster count"
      ]
    },
    {
      "cell_type": "code",
      "metadata": {
        "colab": {
          "base_uri": "https://localhost:8080/",
          "height": 0
        },
        "id": "GfxLGLLN0HRU",
        "outputId": "986e8433-d342-4a86-c23b-a181782b8b8c"
      },
      "source": [
        "# keep track of error for each 'k'\n",
        "errors = []\n",
        "# find best 'k' between 1-15\n",
        "for k in range(1, 15):\n",
        "  kmeans = KMeans(\n",
        "      init=\"random\",\n",
        "      n_clusters=k,\n",
        "      n_init=10,\n",
        "      max_iter=300,\n",
        "      random_state=1)\n",
        "  kmeans.fit(scaled_features)\n",
        "  errors.append(kmeans.inertia_)\n",
        "  \n",
        "\n",
        "plt.plot(range(1, 15), errors)\n",
        "plt.xticks(range(1, 15))\n",
        "plt.xlabel(\"K\")\n",
        "plt.ylabel(\"SSE\")\n",
        "plt.show()"
      ],
      "execution_count": 164,
      "outputs": [
        {
          "output_type": "display_data",
          "data": {
            "image/png": "[encoded data removed]",
            "text/plain": [
              "<Figure size 432x288 with 1 Axes>"
            ]
          },
          "metadata": {
            "tags": [],
            "needs_background": "light"
          }
        }
      ]
    },
    {
      "cell_type": "code",
      "metadata": {
        "colab": {
          "base_uri": "https://localhost:8080/"
        },
        "id": "C72Ot11a3Py3",
        "outputId": "8b7ffc5a-c0e8-4214-efc6-fb085564876a"
      },
      "source": [
        "#finding best K\n",
        "kl = KneeLocator(\n",
        "    range(1, 15), errors, curve=\"convex\", direction=\"decreasing\"\n",
        ")\n",
        "\n",
        "print(\"Best K:\",kl.elbow)"
      ],
      "execution_count": 165,
      "outputs": [
        {
          "output_type": "stream",
          "text": [
            "Best K: 5\n"
          ],
          "name": "stdout"
        }
      ]
    },
    {
      "cell_type": "markdown",
      "metadata": {
        "id": "tl-kYkqa6P6z"
      },
      "source": [
        "### Silhouette Method\n",
        "Using Silhouette method to find the best cluster count\n"
      ]
    },
    {
      "cell_type": "code",
      "metadata": {
        "colab": {
          "base_uri": "https://localhost:8080/",
          "height": 0
        },
        "id": "RRXxWAhc58aN",
        "outputId": "c9effe22-de78-4e5f-96a4-9c0d3d7908c3"
      },
      "source": [
        "scores = []\n",
        "# find best 'k' between 2-15\n",
        "for k in range(2, 15):\n",
        "  kmeans = KMeans(\n",
        "      init=\"random\",\n",
        "      n_clusters=k,\n",
        "      n_init=10,\n",
        "      max_iter=300,\n",
        "      random_state=1)\n",
        "  kmeans.fit(scaled_features)\n",
        "  score = silhouette_score(\n",
        "      scaled_features, kmeans.labels_\n",
        "  )\n",
        "  scores.append(score)\n",
        "\n",
        "plt.plot(range(2, 15), scores)\n",
        "plt.xticks(range(2, 15))\n",
        "plt.xlabel(\"K\")\n",
        "plt.ylabel(\"SSE\")\n",
        "plt.show()"
      ],
      "execution_count": 166,
      "outputs": [
        {
          "output_type": "display_data",
          "data": {
            "image/png": "[encoded data removed]",
            "text/plain": [
              "<Figure size 432x288 with 1 Axes>"
            ]
          },
          "metadata": {
            "tags": [],
            "needs_background": "light"
          }
        }
      ]
    },
    {
      "cell_type": "code",
      "metadata": {
        "colab": {
          "base_uri": "https://localhost:8080/"
        },
        "id": "Y9MuuNis6aps",
        "outputId": "c73ed3b6-d1cb-4a21-f8c8-a2dde3d2ea76"
      },
      "source": [
        "print(\"Best K:\",list(range(2,15))[scores.index(max(scores))])"
      ],
      "execution_count": 167,
      "outputs": [
        {
          "output_type": "stream",
          "text": [
            "Best K: 5\n"
          ],
          "name": "stdout"
        }
      ]
    },
    {
      "cell_type": "markdown",
      "metadata": {
        "id": "SZJxVTgr7Bhq"
      },
      "source": [
        "## BEST k=5"
      ]
    }
  ]
}