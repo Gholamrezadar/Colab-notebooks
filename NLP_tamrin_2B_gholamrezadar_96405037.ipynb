{
  "nbformat": 4,
  "nbformat_minor": 0,
  "metadata": {
    "colab": {
      "name": "NLP_tamrin_2B_gholamrezadar_96405037.ipynb",
      "provenance": [],
      "authorship_tag": "ABX9TyNBv5JMc0xA1r1Dcoe0XvqH",
      "include_colab_link": true
    },
    "kernelspec": {
      "name": "python3",
      "display_name": "Python 3"
    }
  },
  "cells": [
    {
      "cell_type": "markdown",
      "metadata": {
        "id": "view-in-github",
        "colab_type": "text"
      },
      "source": [
        "<a href=\"https://colab.research.google.com/github/Gholamrezadar/Colab-notebooks/blob/main/NLP_tamrin_2B_gholamrezadar_96405037.ipynb\" target=\"_parent\"><img src=\"https://colab.research.google.com/assets/colab-badge.svg\" alt=\"Open In Colab\"/></a>"
      ]
    },
    {
      "cell_type": "markdown",
      "metadata": {
        "id": "XbvEroAzYgou"
      },
      "source": [
        "NLP Tamrin 2-B\n",
        "\n",
        "Gholamrezadar Nov 2020\n"
      ]
    },
    {
      "cell_type": "code",
      "metadata": {
        "id": "eXQwQPxTjrzG",
        "outputId": "a071c10a-8764-432e-bdb9-aaca4d602f45",
        "colab": {
          "base_uri": "https://localhost:8080/"
        }
      },
      "source": [
        "from google.colab import drive\n",
        "drive.mount('/content/drive')"
      ],
      "execution_count": null,
      "outputs": [
        {
          "output_type": "stream",
          "text": [
            "Drive already mounted at /content/drive; to attempt to forcibly remount, call drive.mount(\"/content/drive\", force_remount=True).\n"
          ],
          "name": "stdout"
        }
      ]
    },
    {
      "cell_type": "markdown",
      "metadata": {
        "id": "UNDgSTy4rQHD"
      },
      "source": [
        "### Imports"
      ]
    },
    {
      "cell_type": "code",
      "metadata": {
        "id": "wjmAUpdtlB8C"
      },
      "source": [
        "import numpy as np\n",
        "import keras\n",
        "from keras.layers import Dense\n",
        "import pandas as pd\n",
        "import matplotlib.pyplot as plt\n",
        "import time"
      ],
      "execution_count": null,
      "outputs": []
    },
    {
      "cell_type": "markdown",
      "metadata": {
        "id": "SOpApyJ4rNj0"
      },
      "source": [
        "### Loading Data"
      ]
    },
    {
      "cell_type": "code",
      "metadata": {
        "id": "EAnN-2hgkcbg",
        "outputId": "568d0517-4f8b-4a87-acea-5dfe49cad8aa",
        "colab": {
          "base_uri": "https://localhost:8080/",
          "height": 195
        }
      },
      "source": [
        "\n",
        "_path = \"/content/drive/My Drive/Colab Notebooks/NLP Tamrins/pima-indians-diabetes.csv\"\n",
        "data = np.loadtxt(_path,delimiter=',')\n",
        "df = pd.DataFrame(data=data)\n",
        "df.head()"
      ],
      "execution_count": null,
      "outputs": [
        {
          "output_type": "execute_result",
          "data": {
            "text/html": [
              "<div>\n",
              "<style scoped>\n",
              "    .dataframe tbody tr th:only-of-type {\n",
              "        vertical-align: middle;\n",
              "    }\n",
              "\n",
              "    .dataframe tbody tr th {\n",
              "        vertical-align: top;\n",
              "    }\n",
              "\n",
              "    .dataframe thead th {\n",
              "        text-align: right;\n",
              "    }\n",
              "</style>\n",
              "<table border=\"1\" class=\"dataframe\">\n",
              "  <thead>\n",
              "    <tr style=\"text-align: right;\">\n",
              "      <th></th>\n",
              "      <th>0</th>\n",
              "      <th>1</th>\n",
              "      <th>2</th>\n",
              "      <th>3</th>\n",
              "      <th>4</th>\n",
              "      <th>5</th>\n",
              "      <th>6</th>\n",
              "      <th>7</th>\n",
              "      <th>8</th>\n",
              "    </tr>\n",
              "  </thead>\n",
              "  <tbody>\n",
              "    <tr>\n",
              "      <th>0</th>\n",
              "      <td>6.0</td>\n",
              "      <td>148.0</td>\n",
              "      <td>72.0</td>\n",
              "      <td>35.0</td>\n",
              "      <td>0.0</td>\n",
              "      <td>33.6</td>\n",
              "      <td>0.627</td>\n",
              "      <td>50.0</td>\n",
              "      <td>1.0</td>\n",
              "    </tr>\n",
              "    <tr>\n",
              "      <th>1</th>\n",
              "      <td>1.0</td>\n",
              "      <td>85.0</td>\n",
              "      <td>66.0</td>\n",
              "      <td>29.0</td>\n",
              "      <td>0.0</td>\n",
              "      <td>26.6</td>\n",
              "      <td>0.351</td>\n",
              "      <td>31.0</td>\n",
              "      <td>0.0</td>\n",
              "    </tr>\n",
              "    <tr>\n",
              "      <th>2</th>\n",
              "      <td>8.0</td>\n",
              "      <td>183.0</td>\n",
              "      <td>64.0</td>\n",
              "      <td>0.0</td>\n",
              "      <td>0.0</td>\n",
              "      <td>23.3</td>\n",
              "      <td>0.672</td>\n",
              "      <td>32.0</td>\n",
              "      <td>1.0</td>\n",
              "    </tr>\n",
              "    <tr>\n",
              "      <th>3</th>\n",
              "      <td>1.0</td>\n",
              "      <td>89.0</td>\n",
              "      <td>66.0</td>\n",
              "      <td>23.0</td>\n",
              "      <td>94.0</td>\n",
              "      <td>28.1</td>\n",
              "      <td>0.167</td>\n",
              "      <td>21.0</td>\n",
              "      <td>0.0</td>\n",
              "    </tr>\n",
              "    <tr>\n",
              "      <th>4</th>\n",
              "      <td>0.0</td>\n",
              "      <td>137.0</td>\n",
              "      <td>40.0</td>\n",
              "      <td>35.0</td>\n",
              "      <td>168.0</td>\n",
              "      <td>43.1</td>\n",
              "      <td>2.288</td>\n",
              "      <td>33.0</td>\n",
              "      <td>1.0</td>\n",
              "    </tr>\n",
              "  </tbody>\n",
              "</table>\n",
              "</div>"
            ],
            "text/plain": [
              "     0      1     2     3      4     5      6     7    8\n",
              "0  6.0  148.0  72.0  35.0    0.0  33.6  0.627  50.0  1.0\n",
              "1  1.0   85.0  66.0  29.0    0.0  26.6  0.351  31.0  0.0\n",
              "2  8.0  183.0  64.0   0.0    0.0  23.3  0.672  32.0  1.0\n",
              "3  1.0   89.0  66.0  23.0   94.0  28.1  0.167  21.0  0.0\n",
              "4  0.0  137.0  40.0  35.0  168.0  43.1  2.288  33.0  1.0"
            ]
          },
          "metadata": {
            "tags": []
          },
          "execution_count": 126
        }
      ]
    },
    {
      "cell_type": "markdown",
      "metadata": {
        "id": "wBK8kgdZsI8L"
      },
      "source": [
        "### Data preprocessing"
      ]
    },
    {
      "cell_type": "code",
      "metadata": {
        "id": "Is4pK5SNsH_p",
        "outputId": "7ac43983-5b90-4499-e10a-cdac347aaeb5",
        "colab": {
          "base_uri": "https://localhost:8080/"
        }
      },
      "source": [
        "# complete dataset\n",
        "X = data[:,0:8]\n",
        "Y = data[:,8]\n",
        "\n",
        "# split ratios\n",
        "train_split = 0.7\n",
        "test_split = 0.3\n",
        "\n",
        "# train data\n",
        "x_train = X[:int(len(X)*train_split)]\n",
        "y_train = Y[:int(len(Y)*train_split)]\n",
        "\n",
        "# test data\n",
        "x_test = X[int(len(X)*train_split):]\n",
        "y_test = Y[int(len(Y)*train_split):]\n",
        "\n",
        "print(\"length of data  : {}\".format(len(X)))\n",
        "print(\"length of train : {}\".format(len(x_train)))\n",
        "print(\"length of test  : {}\".format(len(x_test)))\n"
      ],
      "execution_count": null,
      "outputs": [
        {
          "output_type": "stream",
          "text": [
            "length of data  : 768\n",
            "length of train : 537\n",
            "length of test  : 231\n"
          ],
          "name": "stdout"
        }
      ]
    },
    {
      "cell_type": "markdown",
      "metadata": {
        "id": "aU-3uiMirVcO"
      },
      "source": [
        "### Defining Model"
      ]
    },
    {
      "cell_type": "code",
      "metadata": {
        "id": "MozDNXclrU3-",
        "outputId": "a8559aa9-b1b0-497b-e918-ec3c205fd7d1",
        "colab": {
          "base_uri": "https://localhost:8080/",
          "height": 638
        }
      },
      "source": [
        "inputs = keras.Input(shape=(8,))\n",
        "x = Dense(12,activation='relu')(inputs)\n",
        "x = Dense(8,activation='relu')(x)\n",
        "outputs = Dense(1,activation='sigmoid')(x)\n",
        "\n",
        "model = keras.Model(inputs=inputs, outputs=outputs, name=\"diabetes_model\")\n",
        "\n",
        "model.summary()\n",
        "keras.utils.plot_model(model, \"diabetes_model.png\")"
      ],
      "execution_count": null,
      "outputs": [
        {
          "output_type": "stream",
          "text": [
            "Model: \"diabetes_model\"\n",
            "_________________________________________________________________\n",
            "Layer (type)                 Output Shape              Param #   \n",
            "=================================================================\n",
            "input_16 (InputLayer)        [(None, 8)]               0         \n",
            "_________________________________________________________________\n",
            "dense_45 (Dense)             (None, 12)                108       \n",
            "_________________________________________________________________\n",
            "dense_46 (Dense)             (None, 8)                 104       \n",
            "_________________________________________________________________\n",
            "dense_47 (Dense)             (None, 1)                 9         \n",
            "=================================================================\n",
            "Total params: 221\n",
            "Trainable params: 221\n",
            "Non-trainable params: 0\n",
            "_________________________________________________________________\n"
          ],
          "name": "stdout"
        },
        {
          "output_type": "execute_result",
          "data": {
            "image/png": "[encoded data removed]",
            "text/plain": [
              "<IPython.core.display.Image object>"
            ]
          },
          "metadata": {
            "tags": []
          },
          "execution_count": 128
        }
      ]
    },
    {
      "cell_type": "markdown",
      "metadata": {
        "id": "wZTIAfY1wv1r"
      },
      "source": [
        "### Training"
      ]
    },
    {
      "cell_type": "code",
      "metadata": {
        "id": "1gPGmUAawvbP",
        "outputId": "4302f0ba-7c20-4ced-e624-542e7de74cc7",
        "colab": {
          "base_uri": "https://localhost:8080/"
        }
      },
      "source": [
        "model.compile(\n",
        "    loss='binary_crossentropy', optimizer='adam', metrics=['accuracy'],\n",
        ")\n",
        "a = time.time()\n",
        "history = model.fit(x_train, y_train, batch_size=10, epochs=200, validation_split=0.2)\n",
        "print(\"took \" + str(time.time()-a) + \" seconds\")"
      ],
      "execution_count": null,
      "outputs": [
        {
          "output_type": "stream",
          "text": [
            "Epoch 1/200\n",
            "43/43 [==============================] - 0s 4ms/step - loss: 7.9011 - accuracy: 0.4033 - val_loss: 3.2774 - val_accuracy: 0.4722\n",
            "Epoch 2/200\n",
            "43/43 [==============================] - 0s 1ms/step - loss: 3.1153 - accuracy: 0.5128 - val_loss: 1.6587 - val_accuracy: 0.4815\n",
            "Epoch 3/200\n",
            "43/43 [==============================] - 0s 2ms/step - loss: 1.7160 - accuracy: 0.5501 - val_loss: 1.0389 - val_accuracy: 0.6667\n",
            "Epoch 4/200\n",
            "43/43 [==============================] - 0s 2ms/step - loss: 1.1293 - accuracy: 0.5804 - val_loss: 0.8548 - val_accuracy: 0.6667\n",
            "Epoch 5/200\n",
            "43/43 [==============================] - 0s 2ms/step - loss: 0.8911 - accuracy: 0.5967 - val_loss: 0.7859 - val_accuracy: 0.6574\n",
            "Epoch 6/200\n",
            "43/43 [==============================] - 0s 1ms/step - loss: 0.8144 - accuracy: 0.5874 - val_loss: 0.7115 - val_accuracy: 0.6667\n",
            "Epoch 7/200\n",
            "43/43 [==============================] - 0s 1ms/step - loss: 0.7332 - accuracy: 0.6131 - val_loss: 0.6701 - val_accuracy: 0.6667\n",
            "Epoch 8/200\n",
            "43/43 [==============================] - 0s 1ms/step - loss: 0.7304 - accuracy: 0.6154 - val_loss: 0.6959 - val_accuracy: 0.6296\n",
            "Epoch 9/200\n",
            "43/43 [==============================] - 0s 1ms/step - loss: 0.7121 - accuracy: 0.5944 - val_loss: 0.6406 - val_accuracy: 0.6852\n",
            "Epoch 10/200\n",
            "43/43 [==============================] - 0s 1ms/step - loss: 0.7033 - accuracy: 0.6131 - val_loss: 0.7120 - val_accuracy: 0.5833\n",
            "Epoch 11/200\n",
            "43/43 [==============================] - 0s 2ms/step - loss: 0.6926 - accuracy: 0.6364 - val_loss: 0.5920 - val_accuracy: 0.7130\n",
            "Epoch 12/200\n",
            "43/43 [==============================] - 0s 2ms/step - loss: 0.6770 - accuracy: 0.6294 - val_loss: 0.5980 - val_accuracy: 0.7593\n",
            "Epoch 13/200\n",
            "43/43 [==============================] - 0s 1ms/step - loss: 0.6846 - accuracy: 0.6061 - val_loss: 0.5676 - val_accuracy: 0.7685\n",
            "Epoch 14/200\n",
            "43/43 [==============================] - 0s 1ms/step - loss: 0.6677 - accuracy: 0.6340 - val_loss: 0.6202 - val_accuracy: 0.6667\n",
            "Epoch 15/200\n",
            "43/43 [==============================] - 0s 1ms/step - loss: 0.6474 - accuracy: 0.6364 - val_loss: 0.5581 - val_accuracy: 0.7593\n",
            "Epoch 16/200\n",
            "43/43 [==============================] - 0s 1ms/step - loss: 0.6494 - accuracy: 0.6527 - val_loss: 0.7567 - val_accuracy: 0.5463\n",
            "Epoch 17/200\n",
            "43/43 [==============================] - 0s 2ms/step - loss: 0.6546 - accuracy: 0.6317 - val_loss: 0.6292 - val_accuracy: 0.6296\n",
            "Epoch 18/200\n",
            "43/43 [==============================] - 0s 1ms/step - loss: 0.6322 - accuracy: 0.6597 - val_loss: 0.5681 - val_accuracy: 0.7130\n",
            "Epoch 19/200\n",
            "43/43 [==============================] - 0s 2ms/step - loss: 0.6370 - accuracy: 0.6503 - val_loss: 0.6613 - val_accuracy: 0.6296\n",
            "Epoch 20/200\n",
            "43/43 [==============================] - 0s 2ms/step - loss: 0.6219 - accuracy: 0.6503 - val_loss: 0.5279 - val_accuracy: 0.7593\n",
            "Epoch 21/200\n",
            "43/43 [==============================] - 0s 1ms/step - loss: 0.6331 - accuracy: 0.6573 - val_loss: 0.5815 - val_accuracy: 0.6944\n",
            "Epoch 22/200\n",
            "43/43 [==============================] - 0s 2ms/step - loss: 0.6355 - accuracy: 0.6527 - val_loss: 0.7481 - val_accuracy: 0.5000\n",
            "Epoch 23/200\n",
            "43/43 [==============================] - 0s 1ms/step - loss: 0.6227 - accuracy: 0.6620 - val_loss: 0.5657 - val_accuracy: 0.7315\n",
            "Epoch 24/200\n",
            "43/43 [==============================] - 0s 1ms/step - loss: 0.6180 - accuracy: 0.6527 - val_loss: 0.5320 - val_accuracy: 0.7593\n",
            "Epoch 25/200\n",
            "43/43 [==============================] - 0s 1ms/step - loss: 0.6562 - accuracy: 0.6667 - val_loss: 0.5427 - val_accuracy: 0.7500\n",
            "Epoch 26/200\n",
            "43/43 [==============================] - 0s 1ms/step - loss: 0.6081 - accuracy: 0.6713 - val_loss: 0.5587 - val_accuracy: 0.7315\n",
            "Epoch 27/200\n",
            "43/43 [==============================] - 0s 1ms/step - loss: 0.6410 - accuracy: 0.6480 - val_loss: 0.5242 - val_accuracy: 0.7870\n",
            "Epoch 28/200\n",
            "43/43 [==============================] - 0s 2ms/step - loss: 0.6056 - accuracy: 0.7016 - val_loss: 0.5563 - val_accuracy: 0.7593\n",
            "Epoch 29/200\n",
            "43/43 [==============================] - 0s 1ms/step - loss: 0.6132 - accuracy: 0.6620 - val_loss: 0.5256 - val_accuracy: 0.7500\n",
            "Epoch 30/200\n",
            "43/43 [==============================] - 0s 1ms/step - loss: 0.6086 - accuracy: 0.6760 - val_loss: 0.7401 - val_accuracy: 0.5370\n",
            "Epoch 31/200\n",
            "43/43 [==============================] - 0s 1ms/step - loss: 0.6043 - accuracy: 0.6667 - val_loss: 0.5841 - val_accuracy: 0.6852\n",
            "Epoch 32/200\n",
            "43/43 [==============================] - 0s 1ms/step - loss: 0.6130 - accuracy: 0.6597 - val_loss: 0.4983 - val_accuracy: 0.7963\n",
            "Epoch 33/200\n",
            "43/43 [==============================] - 0s 1ms/step - loss: 0.6287 - accuracy: 0.6550 - val_loss: 0.6420 - val_accuracy: 0.6389\n",
            "Epoch 34/200\n",
            "43/43 [==============================] - 0s 2ms/step - loss: 0.5986 - accuracy: 0.6830 - val_loss: 0.5232 - val_accuracy: 0.7593\n",
            "Epoch 35/200\n",
            "43/43 [==============================] - 0s 1ms/step - loss: 0.6159 - accuracy: 0.6783 - val_loss: 0.5015 - val_accuracy: 0.7778\n",
            "Epoch 36/200\n",
            "43/43 [==============================] - 0s 1ms/step - loss: 0.6005 - accuracy: 0.6900 - val_loss: 0.5212 - val_accuracy: 0.7685\n",
            "Epoch 37/200\n",
            "43/43 [==============================] - 0s 1ms/step - loss: 0.5879 - accuracy: 0.7040 - val_loss: 0.5575 - val_accuracy: 0.7315\n",
            "Epoch 38/200\n",
            "43/43 [==============================] - 0s 1ms/step - loss: 0.5906 - accuracy: 0.6853 - val_loss: 0.6586 - val_accuracy: 0.6481\n",
            "Epoch 39/200\n",
            "43/43 [==============================] - 0s 1ms/step - loss: 0.5864 - accuracy: 0.6807 - val_loss: 0.5361 - val_accuracy: 0.7407\n",
            "Epoch 40/200\n",
            "43/43 [==============================] - 0s 1ms/step - loss: 0.5866 - accuracy: 0.6946 - val_loss: 0.6288 - val_accuracy: 0.6574\n",
            "Epoch 41/200\n",
            "43/43 [==============================] - 0s 1ms/step - loss: 0.5895 - accuracy: 0.6853 - val_loss: 0.6415 - val_accuracy: 0.6667\n",
            "Epoch 42/200\n",
            "43/43 [==============================] - 0s 1ms/step - loss: 0.5952 - accuracy: 0.6876 - val_loss: 0.4998 - val_accuracy: 0.7778\n",
            "Epoch 43/200\n",
            "43/43 [==============================] - 0s 1ms/step - loss: 0.5893 - accuracy: 0.6783 - val_loss: 0.5172 - val_accuracy: 0.7870\n",
            "Epoch 44/200\n",
            "43/43 [==============================] - 0s 1ms/step - loss: 0.5822 - accuracy: 0.6993 - val_loss: 0.4870 - val_accuracy: 0.7870\n",
            "Epoch 45/200\n",
            "43/43 [==============================] - 0s 2ms/step - loss: 0.5753 - accuracy: 0.6876 - val_loss: 0.5374 - val_accuracy: 0.7315\n",
            "Epoch 46/200\n",
            "43/43 [==============================] - 0s 2ms/step - loss: 0.5808 - accuracy: 0.6923 - val_loss: 0.5033 - val_accuracy: 0.7593\n",
            "Epoch 47/200\n",
            "43/43 [==============================] - 0s 1ms/step - loss: 0.5765 - accuracy: 0.7063 - val_loss: 0.5407 - val_accuracy: 0.7685\n",
            "Epoch 48/200\n",
            "43/43 [==============================] - 0s 1ms/step - loss: 0.5709 - accuracy: 0.7133 - val_loss: 0.5514 - val_accuracy: 0.7315\n",
            "Epoch 49/200\n",
            "43/43 [==============================] - 0s 2ms/step - loss: 0.5609 - accuracy: 0.7179 - val_loss: 0.6582 - val_accuracy: 0.6389\n",
            "Epoch 50/200\n",
            "43/43 [==============================] - 0s 1ms/step - loss: 0.6294 - accuracy: 0.6480 - val_loss: 0.5101 - val_accuracy: 0.7593\n",
            "Epoch 51/200\n",
            "43/43 [==============================] - 0s 2ms/step - loss: 0.5760 - accuracy: 0.7249 - val_loss: 0.4972 - val_accuracy: 0.7593\n",
            "Epoch 52/200\n",
            "43/43 [==============================] - 0s 2ms/step - loss: 0.5664 - accuracy: 0.7156 - val_loss: 0.5206 - val_accuracy: 0.7407\n",
            "Epoch 53/200\n",
            "43/43 [==============================] - 0s 1ms/step - loss: 0.5883 - accuracy: 0.6993 - val_loss: 0.5328 - val_accuracy: 0.7593\n",
            "Epoch 54/200\n",
            "43/43 [==============================] - 0s 1ms/step - loss: 0.5694 - accuracy: 0.7040 - val_loss: 0.5278 - val_accuracy: 0.7593\n",
            "Epoch 55/200\n",
            "43/43 [==============================] - 0s 1ms/step - loss: 0.5930 - accuracy: 0.7016 - val_loss: 0.5545 - val_accuracy: 0.7685\n",
            "Epoch 56/200\n",
            "43/43 [==============================] - 0s 1ms/step - loss: 0.5885 - accuracy: 0.6946 - val_loss: 0.5920 - val_accuracy: 0.7130\n",
            "Epoch 57/200\n",
            "43/43 [==============================] - 0s 1ms/step - loss: 0.5775 - accuracy: 0.7249 - val_loss: 0.5043 - val_accuracy: 0.8056\n",
            "Epoch 58/200\n",
            "43/43 [==============================] - 0s 2ms/step - loss: 0.5576 - accuracy: 0.7296 - val_loss: 0.4896 - val_accuracy: 0.7685\n",
            "Epoch 59/200\n",
            "43/43 [==============================] - 0s 1ms/step - loss: 0.5788 - accuracy: 0.6830 - val_loss: 0.4748 - val_accuracy: 0.8056\n",
            "Epoch 60/200\n",
            "43/43 [==============================] - 0s 1ms/step - loss: 0.5613 - accuracy: 0.6853 - val_loss: 0.5822 - val_accuracy: 0.7222\n",
            "Epoch 61/200\n",
            "43/43 [==============================] - 0s 2ms/step - loss: 0.5782 - accuracy: 0.6970 - val_loss: 0.4821 - val_accuracy: 0.7593\n",
            "Epoch 62/200\n",
            "43/43 [==============================] - 0s 1ms/step - loss: 0.5556 - accuracy: 0.7319 - val_loss: 0.4934 - val_accuracy: 0.7593\n",
            "Epoch 63/200\n",
            "43/43 [==============================] - 0s 2ms/step - loss: 0.5610 - accuracy: 0.7273 - val_loss: 0.5178 - val_accuracy: 0.7778\n",
            "Epoch 64/200\n",
            "43/43 [==============================] - 0s 2ms/step - loss: 0.6128 - accuracy: 0.6876 - val_loss: 0.6314 - val_accuracy: 0.6389\n",
            "Epoch 65/200\n",
            "43/43 [==============================] - 0s 1ms/step - loss: 0.6125 - accuracy: 0.6876 - val_loss: 0.5794 - val_accuracy: 0.6944\n",
            "Epoch 66/200\n",
            "43/43 [==============================] - 0s 1ms/step - loss: 0.5690 - accuracy: 0.6993 - val_loss: 0.5245 - val_accuracy: 0.7685\n",
            "Epoch 67/200\n",
            "43/43 [==============================] - 0s 2ms/step - loss: 0.5722 - accuracy: 0.7063 - val_loss: 0.4797 - val_accuracy: 0.7963\n",
            "Epoch 68/200\n",
            "43/43 [==============================] - 0s 2ms/step - loss: 0.5676 - accuracy: 0.6946 - val_loss: 0.5102 - val_accuracy: 0.8148\n",
            "Epoch 69/200\n",
            "43/43 [==============================] - 0s 1ms/step - loss: 0.5578 - accuracy: 0.7110 - val_loss: 0.5187 - val_accuracy: 0.7593\n",
            "Epoch 70/200\n",
            "43/43 [==============================] - 0s 1ms/step - loss: 0.5524 - accuracy: 0.7436 - val_loss: 0.4779 - val_accuracy: 0.7778\n",
            "Epoch 71/200\n",
            "43/43 [==============================] - 0s 1ms/step - loss: 0.5509 - accuracy: 0.7366 - val_loss: 0.4826 - val_accuracy: 0.7685\n",
            "Epoch 72/200\n",
            "43/43 [==============================] - 0s 1ms/step - loss: 0.5677 - accuracy: 0.7203 - val_loss: 0.4586 - val_accuracy: 0.7963\n",
            "Epoch 73/200\n",
            "43/43 [==============================] - 0s 1ms/step - loss: 0.5651 - accuracy: 0.7226 - val_loss: 0.4608 - val_accuracy: 0.8148\n",
            "Epoch 74/200\n",
            "43/43 [==============================] - 0s 2ms/step - loss: 0.5663 - accuracy: 0.7249 - val_loss: 0.4696 - val_accuracy: 0.8241\n",
            "Epoch 75/200\n",
            "43/43 [==============================] - 0s 2ms/step - loss: 0.5491 - accuracy: 0.7413 - val_loss: 0.4668 - val_accuracy: 0.8148\n",
            "Epoch 76/200\n",
            "43/43 [==============================] - 0s 2ms/step - loss: 0.5454 - accuracy: 0.7086 - val_loss: 0.4869 - val_accuracy: 0.7778\n",
            "Epoch 77/200\n",
            "43/43 [==============================] - 0s 2ms/step - loss: 0.5865 - accuracy: 0.6900 - val_loss: 0.4712 - val_accuracy: 0.8056\n",
            "Epoch 78/200\n",
            "43/43 [==============================] - 0s 2ms/step - loss: 0.5814 - accuracy: 0.7016 - val_loss: 0.4909 - val_accuracy: 0.7778\n",
            "Epoch 79/200\n",
            "43/43 [==============================] - 0s 2ms/step - loss: 0.5470 - accuracy: 0.7296 - val_loss: 0.4600 - val_accuracy: 0.7963\n",
            "Epoch 80/200\n",
            "43/43 [==============================] - 0s 2ms/step - loss: 0.5458 - accuracy: 0.7343 - val_loss: 0.5399 - val_accuracy: 0.7593\n",
            "Epoch 81/200\n",
            "43/43 [==============================] - 0s 2ms/step - loss: 0.5460 - accuracy: 0.7156 - val_loss: 0.5520 - val_accuracy: 0.7407\n",
            "Epoch 82/200\n",
            "43/43 [==============================] - 0s 2ms/step - loss: 0.5526 - accuracy: 0.7296 - val_loss: 0.4965 - val_accuracy: 0.7963\n",
            "Epoch 83/200\n",
            "43/43 [==============================] - 0s 1ms/step - loss: 0.5364 - accuracy: 0.7506 - val_loss: 0.4669 - val_accuracy: 0.8333\n",
            "Epoch 84/200\n",
            "43/43 [==============================] - 0s 1ms/step - loss: 0.5550 - accuracy: 0.7249 - val_loss: 0.4758 - val_accuracy: 0.7963\n",
            "Epoch 85/200\n",
            "43/43 [==============================] - 0s 1ms/step - loss: 0.5547 - accuracy: 0.7156 - val_loss: 0.4818 - val_accuracy: 0.7963\n",
            "Epoch 86/200\n",
            "43/43 [==============================] - 0s 1ms/step - loss: 0.5370 - accuracy: 0.7296 - val_loss: 0.4826 - val_accuracy: 0.8056\n",
            "Epoch 87/200\n",
            "43/43 [==============================] - 0s 2ms/step - loss: 0.5493 - accuracy: 0.7366 - val_loss: 0.5221 - val_accuracy: 0.7778\n",
            "Epoch 88/200\n",
            "43/43 [==============================] - 0s 2ms/step - loss: 0.5427 - accuracy: 0.7343 - val_loss: 0.4735 - val_accuracy: 0.8056\n",
            "Epoch 89/200\n",
            "43/43 [==============================] - 0s 1ms/step - loss: 0.5459 - accuracy: 0.7226 - val_loss: 0.4887 - val_accuracy: 0.7963\n",
            "Epoch 90/200\n",
            "43/43 [==============================] - 0s 1ms/step - loss: 0.5451 - accuracy: 0.7319 - val_loss: 0.4627 - val_accuracy: 0.8148\n",
            "Epoch 91/200\n",
            "43/43 [==============================] - 0s 1ms/step - loss: 0.5408 - accuracy: 0.7436 - val_loss: 0.5889 - val_accuracy: 0.6852\n",
            "Epoch 92/200\n",
            "43/43 [==============================] - 0s 2ms/step - loss: 0.5562 - accuracy: 0.7086 - val_loss: 0.4734 - val_accuracy: 0.7963\n",
            "Epoch 93/200\n",
            "43/43 [==============================] - 0s 1ms/step - loss: 0.5440 - accuracy: 0.7296 - val_loss: 0.4730 - val_accuracy: 0.8056\n",
            "Epoch 94/200\n",
            "43/43 [==============================] - 0s 1ms/step - loss: 0.5358 - accuracy: 0.7319 - val_loss: 0.5161 - val_accuracy: 0.7870\n",
            "Epoch 95/200\n",
            "43/43 [==============================] - 0s 1ms/step - loss: 0.5454 - accuracy: 0.7203 - val_loss: 0.5222 - val_accuracy: 0.7685\n",
            "Epoch 96/200\n",
            "43/43 [==============================] - 0s 2ms/step - loss: 0.5380 - accuracy: 0.7319 - val_loss: 0.5090 - val_accuracy: 0.7963\n",
            "Epoch 97/200\n",
            "43/43 [==============================] - 0s 2ms/step - loss: 0.5417 - accuracy: 0.7249 - val_loss: 0.5211 - val_accuracy: 0.7593\n",
            "Epoch 98/200\n",
            "43/43 [==============================] - 0s 1ms/step - loss: 0.5293 - accuracy: 0.7343 - val_loss: 0.4832 - val_accuracy: 0.7870\n",
            "Epoch 99/200\n",
            "43/43 [==============================] - 0s 2ms/step - loss: 0.5563 - accuracy: 0.6993 - val_loss: 0.5269 - val_accuracy: 0.7500\n",
            "Epoch 100/200\n",
            "43/43 [==============================] - 0s 1ms/step - loss: 0.5330 - accuracy: 0.7413 - val_loss: 0.4805 - val_accuracy: 0.8241\n",
            "Epoch 101/200\n",
            "43/43 [==============================] - 0s 1ms/step - loss: 0.5462 - accuracy: 0.7203 - val_loss: 0.4485 - val_accuracy: 0.7963\n",
            "Epoch 102/200\n",
            "43/43 [==============================] - 0s 1ms/step - loss: 0.5345 - accuracy: 0.7436 - val_loss: 0.4862 - val_accuracy: 0.7963\n",
            "Epoch 103/200\n",
            "43/43 [==============================] - 0s 1ms/step - loss: 0.5388 - accuracy: 0.7273 - val_loss: 0.5120 - val_accuracy: 0.7685\n",
            "Epoch 104/200\n",
            "43/43 [==============================] - 0s 2ms/step - loss: 0.5394 - accuracy: 0.7343 - val_loss: 0.5494 - val_accuracy: 0.7407\n",
            "Epoch 105/200\n",
            "43/43 [==============================] - 0s 2ms/step - loss: 0.5442 - accuracy: 0.7483 - val_loss: 0.4518 - val_accuracy: 0.8056\n",
            "Epoch 106/200\n",
            "43/43 [==============================] - 0s 2ms/step - loss: 0.5530 - accuracy: 0.7226 - val_loss: 0.4756 - val_accuracy: 0.7963\n",
            "Epoch 107/200\n",
            "43/43 [==============================] - 0s 1ms/step - loss: 0.5423 - accuracy: 0.7389 - val_loss: 0.4709 - val_accuracy: 0.7963\n",
            "Epoch 108/200\n",
            "43/43 [==============================] - 0s 1ms/step - loss: 0.5314 - accuracy: 0.7319 - val_loss: 0.4699 - val_accuracy: 0.8056\n",
            "Epoch 109/200\n",
            "43/43 [==============================] - 0s 1ms/step - loss: 0.5676 - accuracy: 0.6993 - val_loss: 0.4743 - val_accuracy: 0.8056\n",
            "Epoch 110/200\n",
            "43/43 [==============================] - 0s 1ms/step - loss: 0.5306 - accuracy: 0.7249 - val_loss: 0.4561 - val_accuracy: 0.8056\n",
            "Epoch 111/200\n",
            "43/43 [==============================] - 0s 2ms/step - loss: 0.5458 - accuracy: 0.7156 - val_loss: 0.5069 - val_accuracy: 0.7963\n",
            "Epoch 112/200\n",
            "43/43 [==============================] - 0s 1ms/step - loss: 0.5294 - accuracy: 0.7506 - val_loss: 0.4966 - val_accuracy: 0.8148\n",
            "Epoch 113/200\n",
            "43/43 [==============================] - 0s 2ms/step - loss: 0.5600 - accuracy: 0.7133 - val_loss: 0.4675 - val_accuracy: 0.7963\n",
            "Epoch 114/200\n",
            "43/43 [==============================] - 0s 1ms/step - loss: 0.5509 - accuracy: 0.7366 - val_loss: 0.4536 - val_accuracy: 0.8056\n",
            "Epoch 115/200\n",
            "43/43 [==============================] - 0s 1ms/step - loss: 0.5247 - accuracy: 0.7506 - val_loss: 0.5072 - val_accuracy: 0.7778\n",
            "Epoch 116/200\n",
            "43/43 [==============================] - 0s 1ms/step - loss: 0.5247 - accuracy: 0.7506 - val_loss: 0.4782 - val_accuracy: 0.8148\n",
            "Epoch 117/200\n",
            "43/43 [==============================] - 0s 1ms/step - loss: 0.5183 - accuracy: 0.7506 - val_loss: 0.5443 - val_accuracy: 0.7407\n",
            "Epoch 118/200\n",
            "43/43 [==============================] - 0s 1ms/step - loss: 0.5362 - accuracy: 0.7319 - val_loss: 0.4830 - val_accuracy: 0.8056\n",
            "Epoch 119/200\n",
            "43/43 [==============================] - 0s 2ms/step - loss: 0.5291 - accuracy: 0.7296 - val_loss: 0.4618 - val_accuracy: 0.8148\n",
            "Epoch 120/200\n",
            "43/43 [==============================] - 0s 2ms/step - loss: 0.5388 - accuracy: 0.7552 - val_loss: 0.4714 - val_accuracy: 0.7870\n",
            "Epoch 121/200\n",
            "43/43 [==============================] - 0s 1ms/step - loss: 0.5354 - accuracy: 0.7343 - val_loss: 0.5558 - val_accuracy: 0.7315\n",
            "Epoch 122/200\n",
            "43/43 [==============================] - 0s 1ms/step - loss: 0.5601 - accuracy: 0.7249 - val_loss: 0.5373 - val_accuracy: 0.7593\n",
            "Epoch 123/200\n",
            "43/43 [==============================] - 0s 2ms/step - loss: 0.5388 - accuracy: 0.7319 - val_loss: 0.5677 - val_accuracy: 0.6852\n",
            "Epoch 124/200\n",
            "43/43 [==============================] - 0s 2ms/step - loss: 0.5211 - accuracy: 0.7249 - val_loss: 0.4445 - val_accuracy: 0.8333\n",
            "Epoch 125/200\n",
            "43/43 [==============================] - 0s 2ms/step - loss: 0.5258 - accuracy: 0.7459 - val_loss: 0.4342 - val_accuracy: 0.8148\n",
            "Epoch 126/200\n",
            "43/43 [==============================] - 0s 2ms/step - loss: 0.5244 - accuracy: 0.7389 - val_loss: 0.5347 - val_accuracy: 0.7500\n",
            "Epoch 127/200\n",
            "43/43 [==============================] - 0s 1ms/step - loss: 0.5310 - accuracy: 0.7156 - val_loss: 0.4513 - val_accuracy: 0.8056\n",
            "Epoch 128/200\n",
            "43/43 [==============================] - 0s 1ms/step - loss: 0.5112 - accuracy: 0.7483 - val_loss: 0.5691 - val_accuracy: 0.6944\n",
            "Epoch 129/200\n",
            "43/43 [==============================] - 0s 1ms/step - loss: 0.5568 - accuracy: 0.7319 - val_loss: 0.5726 - val_accuracy: 0.7037\n",
            "Epoch 130/200\n",
            "43/43 [==============================] - 0s 1ms/step - loss: 0.5350 - accuracy: 0.7133 - val_loss: 0.4935 - val_accuracy: 0.7778\n",
            "Epoch 131/200\n",
            "43/43 [==============================] - 0s 1ms/step - loss: 0.5375 - accuracy: 0.7319 - val_loss: 0.4802 - val_accuracy: 0.8148\n",
            "Epoch 132/200\n",
            "43/43 [==============================] - 0s 1ms/step - loss: 0.5326 - accuracy: 0.7413 - val_loss: 0.4461 - val_accuracy: 0.7963\n",
            "Epoch 133/200\n",
            "43/43 [==============================] - 0s 2ms/step - loss: 0.5169 - accuracy: 0.7413 - val_loss: 0.5065 - val_accuracy: 0.7963\n",
            "Epoch 134/200\n",
            "43/43 [==============================] - 0s 2ms/step - loss: 0.5220 - accuracy: 0.7762 - val_loss: 0.4616 - val_accuracy: 0.7963\n",
            "Epoch 135/200\n",
            "43/43 [==============================] - 0s 2ms/step - loss: 0.5186 - accuracy: 0.7413 - val_loss: 0.4631 - val_accuracy: 0.7963\n",
            "Epoch 136/200\n",
            "43/43 [==============================] - 0s 1ms/step - loss: 0.5207 - accuracy: 0.7413 - val_loss: 0.4464 - val_accuracy: 0.8056\n",
            "Epoch 137/200\n",
            "43/43 [==============================] - 0s 1ms/step - loss: 0.5333 - accuracy: 0.7273 - val_loss: 0.4925 - val_accuracy: 0.8056\n",
            "Epoch 138/200\n",
            "43/43 [==============================] - 0s 1ms/step - loss: 0.5251 - accuracy: 0.7249 - val_loss: 0.5141 - val_accuracy: 0.7870\n",
            "Epoch 139/200\n",
            "43/43 [==============================] - 0s 2ms/step - loss: 0.5388 - accuracy: 0.7413 - val_loss: 0.5609 - val_accuracy: 0.7130\n",
            "Epoch 140/200\n",
            "43/43 [==============================] - 0s 1ms/step - loss: 0.5294 - accuracy: 0.7343 - val_loss: 0.4595 - val_accuracy: 0.8148\n",
            "Epoch 141/200\n",
            "43/43 [==============================] - 0s 1ms/step - loss: 0.5063 - accuracy: 0.7413 - val_loss: 0.4333 - val_accuracy: 0.8056\n",
            "Epoch 142/200\n",
            "43/43 [==============================] - 0s 1ms/step - loss: 0.5165 - accuracy: 0.7226 - val_loss: 0.4742 - val_accuracy: 0.7778\n",
            "Epoch 143/200\n",
            "43/43 [==============================] - 0s 2ms/step - loss: 0.5170 - accuracy: 0.7622 - val_loss: 0.4483 - val_accuracy: 0.8056\n",
            "Epoch 144/200\n",
            "43/43 [==============================] - 0s 2ms/step - loss: 0.5278 - accuracy: 0.7413 - val_loss: 0.4450 - val_accuracy: 0.8148\n",
            "Epoch 145/200\n",
            "43/43 [==============================] - 0s 2ms/step - loss: 0.5176 - accuracy: 0.7389 - val_loss: 0.4768 - val_accuracy: 0.8056\n",
            "Epoch 146/200\n",
            "43/43 [==============================] - 0s 2ms/step - loss: 0.5156 - accuracy: 0.7459 - val_loss: 0.5080 - val_accuracy: 0.7500\n",
            "Epoch 147/200\n",
            "43/43 [==============================] - 0s 2ms/step - loss: 0.5403 - accuracy: 0.7156 - val_loss: 0.6002 - val_accuracy: 0.6852\n",
            "Epoch 148/200\n",
            "43/43 [==============================] - 0s 1ms/step - loss: 0.5316 - accuracy: 0.7389 - val_loss: 0.4442 - val_accuracy: 0.8056\n",
            "Epoch 149/200\n",
            "43/43 [==============================] - 0s 2ms/step - loss: 0.5386 - accuracy: 0.7366 - val_loss: 0.4555 - val_accuracy: 0.8056\n",
            "Epoch 150/200\n",
            "43/43 [==============================] - 0s 1ms/step - loss: 0.5393 - accuracy: 0.7273 - val_loss: 0.4969 - val_accuracy: 0.7778\n",
            "Epoch 151/200\n",
            "43/43 [==============================] - 0s 1ms/step - loss: 0.5345 - accuracy: 0.7389 - val_loss: 0.4628 - val_accuracy: 0.8148\n",
            "Epoch 152/200\n",
            "43/43 [==============================] - 0s 2ms/step - loss: 0.5252 - accuracy: 0.7413 - val_loss: 0.4367 - val_accuracy: 0.8241\n",
            "Epoch 153/200\n",
            "43/43 [==============================] - 0s 2ms/step - loss: 0.5362 - accuracy: 0.7389 - val_loss: 0.5119 - val_accuracy: 0.7778\n",
            "Epoch 154/200\n",
            "43/43 [==============================] - 0s 2ms/step - loss: 0.5149 - accuracy: 0.7576 - val_loss: 0.4404 - val_accuracy: 0.7778\n",
            "Epoch 155/200\n",
            "43/43 [==============================] - 0s 1ms/step - loss: 0.5105 - accuracy: 0.7646 - val_loss: 0.4508 - val_accuracy: 0.7963\n",
            "Epoch 156/200\n",
            "43/43 [==============================] - 0s 1ms/step - loss: 0.5160 - accuracy: 0.7506 - val_loss: 0.4942 - val_accuracy: 0.7963\n",
            "Epoch 157/200\n",
            "43/43 [==============================] - 0s 1ms/step - loss: 0.5211 - accuracy: 0.7413 - val_loss: 0.4942 - val_accuracy: 0.7963\n",
            "Epoch 158/200\n",
            "43/43 [==============================] - 0s 2ms/step - loss: 0.5284 - accuracy: 0.7389 - val_loss: 0.5338 - val_accuracy: 0.7407\n",
            "Epoch 159/200\n",
            "43/43 [==============================] - 0s 2ms/step - loss: 0.5270 - accuracy: 0.7529 - val_loss: 0.5001 - val_accuracy: 0.7778\n",
            "Epoch 160/200\n",
            "43/43 [==============================] - 0s 2ms/step - loss: 0.5148 - accuracy: 0.7739 - val_loss: 0.4594 - val_accuracy: 0.8056\n",
            "Epoch 161/200\n",
            "43/43 [==============================] - 0s 2ms/step - loss: 0.5141 - accuracy: 0.7552 - val_loss: 0.4831 - val_accuracy: 0.7963\n",
            "Epoch 162/200\n",
            "43/43 [==============================] - 0s 2ms/step - loss: 0.5375 - accuracy: 0.7296 - val_loss: 0.5958 - val_accuracy: 0.6852\n",
            "Epoch 163/200\n",
            "43/43 [==============================] - 0s 1ms/step - loss: 0.5533 - accuracy: 0.7086 - val_loss: 0.4616 - val_accuracy: 0.7870\n",
            "Epoch 164/200\n",
            "43/43 [==============================] - 0s 2ms/step - loss: 0.5219 - accuracy: 0.7366 - val_loss: 0.4497 - val_accuracy: 0.7870\n",
            "Epoch 165/200\n",
            "43/43 [==============================] - 0s 2ms/step - loss: 0.5089 - accuracy: 0.7692 - val_loss: 0.4946 - val_accuracy: 0.7963\n",
            "Epoch 166/200\n",
            "43/43 [==============================] - 0s 2ms/step - loss: 0.5148 - accuracy: 0.7389 - val_loss: 0.4360 - val_accuracy: 0.8241\n",
            "Epoch 167/200\n",
            "43/43 [==============================] - 0s 2ms/step - loss: 0.5196 - accuracy: 0.7343 - val_loss: 0.4965 - val_accuracy: 0.7870\n",
            "Epoch 168/200\n",
            "43/43 [==============================] - 0s 2ms/step - loss: 0.5312 - accuracy: 0.7203 - val_loss: 0.4853 - val_accuracy: 0.7778\n",
            "Epoch 169/200\n",
            "43/43 [==============================] - 0s 1ms/step - loss: 0.5074 - accuracy: 0.7576 - val_loss: 0.4609 - val_accuracy: 0.7963\n",
            "Epoch 170/200\n",
            "43/43 [==============================] - 0s 2ms/step - loss: 0.5129 - accuracy: 0.7436 - val_loss: 0.5390 - val_accuracy: 0.7500\n",
            "Epoch 171/200\n",
            "43/43 [==============================] - 0s 2ms/step - loss: 0.5059 - accuracy: 0.7692 - val_loss: 0.4856 - val_accuracy: 0.7870\n",
            "Epoch 172/200\n",
            "43/43 [==============================] - 0s 2ms/step - loss: 0.5106 - accuracy: 0.7622 - val_loss: 0.4951 - val_accuracy: 0.7778\n",
            "Epoch 173/200\n",
            "43/43 [==============================] - 0s 2ms/step - loss: 0.5112 - accuracy: 0.7599 - val_loss: 0.4699 - val_accuracy: 0.8148\n",
            "Epoch 174/200\n",
            "43/43 [==============================] - 0s 1ms/step - loss: 0.5101 - accuracy: 0.7576 - val_loss: 0.5084 - val_accuracy: 0.7778\n",
            "Epoch 175/200\n",
            "43/43 [==============================] - 0s 2ms/step - loss: 0.5243 - accuracy: 0.7273 - val_loss: 0.5032 - val_accuracy: 0.7870\n",
            "Epoch 176/200\n",
            "43/43 [==============================] - 0s 2ms/step - loss: 0.5080 - accuracy: 0.7506 - val_loss: 0.4664 - val_accuracy: 0.7778\n",
            "Epoch 177/200\n",
            "43/43 [==============================] - 0s 2ms/step - loss: 0.5161 - accuracy: 0.7436 - val_loss: 0.4945 - val_accuracy: 0.7870\n",
            "Epoch 178/200\n",
            "43/43 [==============================] - 0s 2ms/step - loss: 0.5181 - accuracy: 0.7483 - val_loss: 0.6211 - val_accuracy: 0.6389\n",
            "Epoch 179/200\n",
            "43/43 [==============================] - 0s 1ms/step - loss: 0.5299 - accuracy: 0.7319 - val_loss: 0.4413 - val_accuracy: 0.7963\n",
            "Epoch 180/200\n",
            "43/43 [==============================] - 0s 2ms/step - loss: 0.5083 - accuracy: 0.7529 - val_loss: 0.4445 - val_accuracy: 0.7778\n",
            "Epoch 181/200\n",
            "43/43 [==============================] - 0s 2ms/step - loss: 0.5277 - accuracy: 0.7319 - val_loss: 0.5405 - val_accuracy: 0.7407\n",
            "Epoch 182/200\n",
            "43/43 [==============================] - 0s 2ms/step - loss: 0.5109 - accuracy: 0.7576 - val_loss: 0.4610 - val_accuracy: 0.7963\n",
            "Epoch 183/200\n",
            "43/43 [==============================] - 0s 2ms/step - loss: 0.5174 - accuracy: 0.7366 - val_loss: 0.4671 - val_accuracy: 0.8056\n",
            "Epoch 184/200\n",
            "43/43 [==============================] - 0s 2ms/step - loss: 0.5153 - accuracy: 0.7529 - val_loss: 0.5507 - val_accuracy: 0.7130\n",
            "Epoch 185/200\n",
            "43/43 [==============================] - 0s 2ms/step - loss: 0.5155 - accuracy: 0.7273 - val_loss: 0.4298 - val_accuracy: 0.7870\n",
            "Epoch 186/200\n",
            "43/43 [==============================] - 0s 2ms/step - loss: 0.5379 - accuracy: 0.7436 - val_loss: 0.4579 - val_accuracy: 0.7870\n",
            "Epoch 187/200\n",
            "43/43 [==============================] - 0s 1ms/step - loss: 0.5438 - accuracy: 0.7413 - val_loss: 0.4566 - val_accuracy: 0.7778\n",
            "Epoch 188/200\n",
            "43/43 [==============================] - 0s 2ms/step - loss: 0.5276 - accuracy: 0.7483 - val_loss: 0.5054 - val_accuracy: 0.7778\n",
            "Epoch 189/200\n",
            "43/43 [==============================] - 0s 2ms/step - loss: 0.5320 - accuracy: 0.7529 - val_loss: 0.4904 - val_accuracy: 0.7963\n",
            "Epoch 190/200\n",
            "43/43 [==============================] - 0s 2ms/step - loss: 0.4970 - accuracy: 0.7529 - val_loss: 0.4519 - val_accuracy: 0.8241\n",
            "Epoch 191/200\n",
            "43/43 [==============================] - 0s 2ms/step - loss: 0.4989 - accuracy: 0.7646 - val_loss: 0.4615 - val_accuracy: 0.7963\n",
            "Epoch 192/200\n",
            "43/43 [==============================] - 0s 2ms/step - loss: 0.5124 - accuracy: 0.7459 - val_loss: 0.5484 - val_accuracy: 0.7037\n",
            "Epoch 193/200\n",
            "43/43 [==============================] - 0s 2ms/step - loss: 0.5315 - accuracy: 0.7343 - val_loss: 0.4235 - val_accuracy: 0.8056\n",
            "Epoch 194/200\n",
            "43/43 [==============================] - 0s 2ms/step - loss: 0.5117 - accuracy: 0.7506 - val_loss: 0.4563 - val_accuracy: 0.7778\n",
            "Epoch 195/200\n",
            "43/43 [==============================] - 0s 2ms/step - loss: 0.5234 - accuracy: 0.7226 - val_loss: 0.5024 - val_accuracy: 0.7870\n",
            "Epoch 196/200\n",
            "43/43 [==============================] - 0s 2ms/step - loss: 0.5268 - accuracy: 0.7249 - val_loss: 0.4933 - val_accuracy: 0.8056\n",
            "Epoch 197/200\n",
            "43/43 [==============================] - 0s 2ms/step - loss: 0.5177 - accuracy: 0.7459 - val_loss: 0.4897 - val_accuracy: 0.8056\n",
            "Epoch 198/200\n",
            "43/43 [==============================] - 0s 2ms/step - loss: 0.5089 - accuracy: 0.7366 - val_loss: 0.5065 - val_accuracy: 0.7870\n",
            "Epoch 199/200\n",
            "43/43 [==============================] - 0s 2ms/step - loss: 0.5062 - accuracy: 0.7599 - val_loss: 0.4922 - val_accuracy: 0.7963\n",
            "Epoch 200/200\n",
            "43/43 [==============================] - 0s 2ms/step - loss: 0.5203 - accuracy: 0.7413 - val_loss: 0.4826 - val_accuracy: 0.7870\n",
            "took 15.076538562774658 seconds\n"
          ],
          "name": "stdout"
        }
      ]
    },
    {
      "cell_type": "markdown",
      "metadata": {
        "id": "19NkkIGoybIE"
      },
      "source": [
        "### Evaluation"
      ]
    },
    {
      "cell_type": "code",
      "metadata": {
        "id": "XbWDOC3QyakQ",
        "outputId": "62ec81f4-9c4b-40cf-865c-b1c74e09cafc",
        "colab": {
          "base_uri": "https://localhost:8080/"
        }
      },
      "source": [
        "test_scores = model.evaluate(x_test, y_test, verbose=2)\n",
        "\n",
        "print(\"Test loss:\", test_scores[0])\n",
        "print(\"Test accuracy:\", test_scores[1])"
      ],
      "execution_count": null,
      "outputs": [
        {
          "output_type": "stream",
          "text": [
            "8/8 - 0s - loss: 0.6155 - accuracy: 0.7273\n",
            "Test loss: 0.6155065298080444\n",
            "Test accuracy: 0.7272727489471436\n"
          ],
          "name": "stdout"
        }
      ]
    },
    {
      "cell_type": "markdown",
      "metadata": {
        "id": "3KDgG43rxk6T"
      },
      "source": [
        "#### Plotting History"
      ]
    },
    {
      "cell_type": "code",
      "metadata": {
        "id": "21k4GxrAxkNB",
        "outputId": "090d2fbc-5e90-4292-8669-c549c4d9c102",
        "colab": {
          "base_uri": "https://localhost:8080/",
          "height": 295
        }
      },
      "source": [
        "plt.plot(history.history['accuracy'])\n",
        "plt.plot(history.history['val_accuracy'])\n",
        "plt.title('model accuracy')\n",
        "plt.ylabel('accuracy')\n",
        "plt.xlabel('epoch')\n",
        "plt.legend(['train', 'test'], loc='upper left')\n",
        "plt.show()"
      ],
      "execution_count": null,
      "outputs": [
        {
          "output_type": "display_data",
          "data": {
            "image/png": "[encoded data removed]",
            "text/plain": [
              "<Figure size 432x288 with 1 Axes>"
            ]
          },
          "metadata": {
            "tags": [],
            "needs_background": "light"
          }
        }
      ]
    }
  ]
}