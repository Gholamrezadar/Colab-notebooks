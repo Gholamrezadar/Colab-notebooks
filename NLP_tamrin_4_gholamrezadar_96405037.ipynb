{
  "nbformat": 4,
  "nbformat_minor": 0,
  "metadata": {
    "colab": {
      "name": "NLP_tamrin_4_gholamrezadar_96405037.ipynb",
      "provenance": [],
      "authorship_tag": "ABX9TyOWCRGiW8a1uwpiyd7UG9OY",
      "include_colab_link": true
    },
    "kernelspec": {
      "name": "python3",
      "display_name": "Python 3"
    }
  },
  "cells": [
    {
      "cell_type": "markdown",
      "metadata": {
        "id": "view-in-github",
        "colab_type": "text"
      },
      "source": [
        "<a href=\"https://colab.research.google.com/github/Gholamrezadar/Colab-notebooks/blob/main/NLP_tamrin_4_gholamrezadar_96405037.ipynb\" target=\"_parent\"><img src=\"https://colab.research.google.com/assets/colab-badge.svg\" alt=\"Open In Colab\"/></a>"
      ]
    },
    {
      "cell_type": "code",
      "metadata": {
        "id": "mKoeEvPgtiEP"
      },
      "source": [
        "from keras.datasets import imdb\r\n",
        "import numpy as np\r\n",
        "from keras import models\r\n",
        "from keras import layers"
      ],
      "execution_count": null,
      "outputs": []
    },
    {
      "cell_type": "code",
      "metadata": {
        "id": "E2WSX-RLt4aO",
        "colab": {
          "base_uri": "https://localhost:8080/"
        },
        "outputId": "dc918c18-5e82-4969-87cc-4fc60e0492e1"
      },
      "source": [
        "(train_data, train_labels), (test_data, test_labels) = imdb.load_data(\r\n",
        "    num_words=10000)"
      ],
      "execution_count": null,
      "outputs": [
        {
          "output_type": "stream",
          "text": [
            "Downloading data from https://storage.googleapis.com/tensorflow/tf-keras-datasets/imdb.npz\n",
            "17465344/17464789 [==============================] - 0s 0us/step\n"
          ],
          "name": "stdout"
        }
      ]
    },
    {
      "cell_type": "code",
      "metadata": {
        "id": "p0cbJlMNt6bk"
      },
      "source": [
        "def vectorize_sequences(sequences, dimension=10000):\r\n",
        "    results = np.zeros((len(sequences), dimension))\r\n",
        "    for i,sequence in enumerate(sequences):\r\n",
        "        results[i,sequence] = 1.\r\n",
        "    return results"
      ],
      "execution_count": null,
      "outputs": []
    },
    {
      "cell_type": "code",
      "metadata": {
        "id": "wiTHLfM7t8w6"
      },
      "source": [
        "x_train = vectorize_sequences(train_data)\r\n",
        "x_test = vectorize_sequences(test_data)\r\n",
        "y_train = np.asarray(train_labels).astype('float32')\r\n",
        "y_test = np.asarray(test_labels).astype('float32')"
      ],
      "execution_count": null,
      "outputs": []
    },
    {
      "cell_type": "code",
      "metadata": {
        "colab": {
          "base_uri": "https://localhost:8080/"
        },
        "id": "icw_EkAkt_UU",
        "outputId": "14db0633-f265-42f2-fba4-a2bb4c4caded"
      },
      "source": [
        "model = models.Sequential()\r\n",
        "model.add(layers.Dense(16, activation='relu', input_shape=(10000,)))\r\n",
        "model.add(layers.Dense(16, activation='relu'))\r\n",
        "model.add(layers.Dense(1, activation='sigmoid'))\r\n",
        "\r\n",
        "model.compile(optimizer='rmsprop',\r\n",
        "              loss='binary_crossentropy',\r\n",
        "              metrics=['accuracy'])\r\n",
        "\r\n",
        "model.summary()"
      ],
      "execution_count": null,
      "outputs": [
        {
          "output_type": "stream",
          "text": [
            "Model: \"sequential\"\n",
            "_________________________________________________________________\n",
            "Layer (type)                 Output Shape              Param #   \n",
            "=================================================================\n",
            "dense (Dense)                (None, 16)                160016    \n",
            "_________________________________________________________________\n",
            "dense_1 (Dense)              (None, 16)                272       \n",
            "_________________________________________________________________\n",
            "dense_2 (Dense)              (None, 1)                 17        \n",
            "=================================================================\n",
            "Total params: 160,305\n",
            "Trainable params: 160,305\n",
            "Non-trainable params: 0\n",
            "_________________________________________________________________\n"
          ],
          "name": "stdout"
        }
      ]
    },
    {
      "cell_type": "code",
      "metadata": {
        "colab": {
          "base_uri": "https://localhost:8080/"
        },
        "id": "uTf90peLuCce",
        "outputId": "a2443abb-faf6-4a6a-c2df-4c3a68236004"
      },
      "source": [
        "model.fit(x_train, y_train, epochs=4, batch_size=512)"
      ],
      "execution_count": null,
      "outputs": [
        {
          "output_type": "stream",
          "text": [
            "Epoch 1/4\n",
            "49/49 [==============================] - 1s 16ms/step - loss: 0.5038 - accuracy: 0.7902\n",
            "Epoch 2/4\n",
            "49/49 [==============================] - 1s 16ms/step - loss: 0.2887 - accuracy: 0.9089\n",
            "Epoch 3/4\n",
            "49/49 [==============================] - 1s 16ms/step - loss: 0.2130 - accuracy: 0.9290\n",
            "Epoch 4/4\n",
            "49/49 [==============================] - 1s 16ms/step - loss: 0.1768 - accuracy: 0.9383\n"
          ],
          "name": "stdout"
        },
        {
          "output_type": "execute_result",
          "data": {
            "text/plain": [
              "<tensorflow.python.keras.callbacks.History at 0x7f93bbcabf28>"
            ]
          },
          "metadata": {
            "tags": []
          },
          "execution_count": 6
        }
      ]
    },
    {
      "cell_type": "code",
      "metadata": {
        "colab": {
          "base_uri": "https://localhost:8080/"
        },
        "id": "CMvgLPDxuF-R",
        "outputId": "7e1d6ee1-e61c-495e-c3d0-7da264e7457b"
      },
      "source": [
        "results = model.evaluate(x_test, y_test)\r\n",
        "print('Accuracy : {}'.format(results[1]))"
      ],
      "execution_count": null,
      "outputs": [
        {
          "output_type": "stream",
          "text": [
            "782/782 [==============================] - 1s 1ms/step - loss: 0.2880 - accuracy: 0.8864\n",
            "Accuracy : 0.8863599896430969\n"
          ],
          "name": "stdout"
        }
      ]
    }
  ]
}