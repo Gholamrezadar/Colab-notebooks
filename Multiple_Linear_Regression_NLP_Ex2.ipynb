{
  "nbformat": 4,
  "nbformat_minor": 0,
  "metadata": {
    "colab": {
      "name": "NLP_tamrin_2_gholamrezadar_96405037.ipynb",
      "provenance": [],
      "toc_visible": true,
      "authorship_tag": "ABX9TyOdY13snvntl1exZ7d+c++U",
      "include_colab_link": true
    },
    "kernelspec": {
      "name": "python3",
      "display_name": "Python 3"
    }
  },
  "cells": [
    {
      "cell_type": "markdown",
      "metadata": {
        "id": "view-in-github",
        "colab_type": "text"
      },
      "source": [
        "<a href=\"https://colab.research.google.com/github/Gholamrezadar/Colab-notebooks/blob/main/Multiple_Linear_Regression_NLP_Ex2.ipynb\" target=\"_parent\"><img src=\"https://colab.research.google.com/assets/colab-badge.svg\" alt=\"Open In Colab\"/></a>"
      ]
    },
    {
      "cell_type": "markdown",
      "metadata": {
        "id": "jMUKXbNytmFq"
      },
      "source": [
        "## Mount Google Drive"
      ]
    },
    {
      "cell_type": "code",
      "metadata": {
        "id": "tZYbY0FutE5E",
        "outputId": "7771107e-1711-43c8-8dbb-0af1d196606d",
        "colab": {
          "base_uri": "https://localhost:8080/",
          "height": 34
        }
      },
      "source": [
        "# Gholamrezadar 96405037 | October 2020\n",
        "\n",
        "from google.colab import drive\n",
        "drive.mount('/content/drive')"
      ],
      "execution_count": 203,
      "outputs": [
        {
          "output_type": "stream",
          "text": [
            "Drive already mounted at /content/drive; to attempt to forcibly remount, call drive.mount(\"/content/drive\", force_remount=True).\n"
          ],
          "name": "stdout"
        }
      ]
    },
    {
      "cell_type": "markdown",
      "metadata": {
        "id": "xRQyRjSQtrkr"
      },
      "source": [
        "## imports"
      ]
    },
    {
      "cell_type": "code",
      "metadata": {
        "id": "G-uHKqYStgKR"
      },
      "source": [
        "import numpy as np\n",
        "import matplotlib as mpl\n",
        "import matplotlib.pyplot as plt\n",
        "from sklearn import preprocessing, pipeline\n",
        "from sklearn.linear_model import LinearRegression, Lasso, Ridge\n",
        "\n",
        "# change colab output quality\n",
        "mpl.rcParams['figure.dpi'] = 120"
      ],
      "execution_count": 204,
      "outputs": []
    },
    {
      "cell_type": "markdown",
      "metadata": {
        "id": "6UhisN_IuOBN"
      },
      "source": [
        "## Loading Data"
      ]
    },
    {
      "cell_type": "markdown",
      "metadata": {
        "id": "bNjyQKeun5ri"
      },
      "source": [
        "## A) Multiple Linear Regression\n"
      ]
    },
    {
      "cell_type": "code",
      "metadata": {
        "id": "W2GJYlTyuNLN"
      },
      "source": [
        "# read data as numpy array from text file\n",
        "data = np.genfromtxt(\"/content/drive/My Drive/ex1data2.txt\", delimiter=\",\")\n",
        "\n",
        "# seperate x and y\n",
        "x = data[:,0:2]\n",
        "y = data[:,2]\n",
        "\n",
        "# print(x)\n",
        "# print()\n",
        "# print(y)"
      ],
      "execution_count": 205,
      "outputs": []
    },
    {
      "cell_type": "markdown",
      "metadata": {
        "id": "QsTYZYyqkEKc"
      },
      "source": [
        "### Plotting"
      ]
    },
    {
      "cell_type": "code",
      "metadata": {
        "id": "irF_f2sZkDoZ",
        "outputId": "6acc2fe1-a68d-4680-9ae8-1b1a787830fa",
        "colab": {
          "base_uri": "https://localhost:8080/",
          "height": 395
        }
      },
      "source": [
        "fig, axs = plt.subplots(1, 2, figsize=(9, 3), sharey=True)\n",
        "axs[0].scatter(x[:,0], y,s=8, c=\"r\",label=\"Area\")\n",
        "axs[1].scatter(x[:,1], y,s=8, c=\"g\",label=\"Room Count\")\n",
        "fig.legend()\n",
        "fig.suptitle('House Prices')"
      ],
      "execution_count": 206,
      "outputs": [
        {
          "output_type": "execute_result",
          "data": {
            "text/plain": [
              "Text(0.5, 0.98, 'House Prices')"
            ]
          },
          "metadata": {
            "tags": []
          },
          "execution_count": 206
        },
        {
          "output_type": "display_data",
          "data": {
            "image/png": "[encoded data removed]",
            "text/plain": [
              "<Figure size 1080x360 with 2 Axes>"
            ]
          },
          "metadata": {
            "tags": [],
            "needs_background": "light"
          }
        }
      ]
    },
    {
      "cell_type": "markdown",
      "metadata": {
        "id": "wxpl70TygPWU"
      },
      "source": [
        "### Normalize the data"
      ]
    },
    {
      "cell_type": "code",
      "metadata": {
        "id": "G6_0M5VEgPjW",
        "outputId": "c74e9c47-c388-49e5-b6cf-eb4e9418eb20",
        "colab": {
          "base_uri": "https://localhost:8080/",
          "height": 395
        }
      },
      "source": [
        "x_scaled = preprocessing.scale(x)\n",
        "\n",
        "fig, axs = plt.subplots(1, 2, figsize=(9, 3), sharey=True)\n",
        "axs[0].scatter(x_scaled[:,0], y,s=8, c=\"r\",label=\"Area\")\n",
        "axs[1].scatter(x_scaled[:,1], y,s=8, c=\"g\",label=\"Room Count\")\n",
        "fig.legend()\n",
        "fig.suptitle('House Prices (Normalized)')"
      ],
      "execution_count": 207,
      "outputs": [
        {
          "output_type": "execute_result",
          "data": {
            "text/plain": [
              "Text(0.5, 0.98, 'House Prices (Normalized)')"
            ]
          },
          "metadata": {
            "tags": []
          },
          "execution_count": 207
        },
        {
          "output_type": "display_data",
          "data": {
            "image/png": "[encoded data removed]",
            "text/plain": [
              "<Figure size 1080x360 with 2 Axes>"
            ]
          },
          "metadata": {
            "tags": [],
            "needs_background": "light"
          }
        }
      ]
    },
    {
      "cell_type": "markdown",
      "metadata": {
        "id": "mF-SX72E3Xci"
      },
      "source": [
        "### Linear Regression \n"
      ]
    },
    {
      "cell_type": "code",
      "metadata": {
        "id": "6q5U-8tG3W3U",
        "outputId": "2fa154bf-0e8b-49ad-bc99-14f591fad5a3",
        "colab": {
          "base_uri": "https://localhost:8080/",
          "height": 134
        }
      },
      "source": [
        "# fit a line to the data\n",
        "reg = LinearRegression().fit(x_scaled.reshape(-1, 2), y)\n",
        "\n",
        "# print regressions result\n",
        "print(\"score = {}\\n\".format(reg.score(x_scaled.reshape(-1, 2), y)))\n",
        "print(\"coeff = {},{}\\n\".format(reg.coef_[0],reg.coef_[1]))\n",
        "print(\"intercept = {}\\n\".format(reg.intercept_))\n",
        "print('Y = ', reg.coef_[0], 'X1 + ', reg.coef_[1], 'X2 + ', reg.intercept_)\n"
      ],
      "execution_count": 208,
      "outputs": [
        {
          "output_type": "stream",
          "text": [
            "score = 0.7329450180289143\n",
            "\n",
            "coeff = 109447.7964696418,-6578.354854161245\n",
            "\n",
            "intercept = 340412.6595744681\n",
            "\n",
            "Y =  109447.7964696418 X1 +  -6578.354854161245 X2 +  340412.6595744681\n"
          ],
          "name": "stdout"
        }
      ]
    },
    {
      "cell_type": "markdown",
      "metadata": {
        "id": "HZIV_we5npIR"
      },
      "source": [
        "# B) Adding Squares and Cubes of the data"
      ]
    },
    {
      "cell_type": "markdown",
      "metadata": {
        "id": "cyvlInD7pshM"
      },
      "source": [
        "### Polynomial Features"
      ]
    },
    {
      "cell_type": "code",
      "metadata": {
        "id": "hMcKQGmEonjy",
        "outputId": "01cf7289-9167-4456-d0c9-04612fde8fcf",
        "colab": {
          "base_uri": "https://localhost:8080/",
          "height": 50
        }
      },
      "source": [
        "degree=3\n",
        "reg=pipeline.make_pipeline(preprocessing.PolynomialFeatures(degree),LinearRegression())\n",
        "reg.fit(x_scaled,y)\n",
        "\n",
        "print(\"score = {}\\n\".format(reg.score(x_scaled.reshape(-1, 2), y)))\n"
      ],
      "execution_count": 209,
      "outputs": [
        {
          "output_type": "stream",
          "text": [
            "score = 0.7788762778666668\n",
            "\n"
          ],
          "name": "stdout"
        }
      ]
    },
    {
      "cell_type": "markdown",
      "metadata": {
        "id": "NoNJks5BpPKa"
      },
      "source": [
        "افزودن درجه دوم و سوم داده ها \"اسکور\" را افزایش داد\n",
        "0.732 -> 0.778\n",
        "\n",
        "\n",
        "\n"
      ]
    },
    {
      "cell_type": "markdown",
      "metadata": {
        "id": "-_szC4nXp0Zl"
      },
      "source": [
        "# C) Regularization"
      ]
    },
    {
      "cell_type": "markdown",
      "metadata": {
        "id": "GzhhbEz6r1xn"
      },
      "source": [
        "### Lasso Regression"
      ]
    },
    {
      "cell_type": "markdown",
      "metadata": {
        "id": "ChL4xkK5sf_U"
      },
      "source": [
        "تاثیر ناچیزی داشت"
      ]
    },
    {
      "cell_type": "code",
      "metadata": {
        "id": "KV6qmPaNr0WC",
        "outputId": "2a02cc8a-9648-40c8-ea80-1108b4931b24",
        "colab": {
          "base_uri": "https://localhost:8080/",
          "height": 134
        }
      },
      "source": [
        "# fit a line to the data\n",
        "reg = Lasso(alpha=0.1).fit(x_scaled.reshape(-1, 2), y)\n",
        "\n",
        "# print regressions result\n",
        "print(\"score = {}\\n\".format(reg.score(x_scaled.reshape(-1, 2), y)))\n",
        "print(\"coeff = {},{}\\n\".format(reg.coef_[0],reg.coef_[1]))\n",
        "print(\"intercept = {}\\n\".format(reg.intercept_))\n",
        "print('Y = ', reg.coef_[0], 'X1 + ', reg.coef_[1], 'X2 + ', reg.intercept_)"
      ],
      "execution_count": 210,
      "outputs": [
        {
          "output_type": "stream",
          "text": [
            "score = 0.7329450180258756\n",
            "\n",
            "coeff = 109447.56588597743,-6578.12573487136\n",
            "\n",
            "intercept = 340412.6595744681\n",
            "\n",
            "Y =  109447.56588597743 X1 +  -6578.12573487136 X2 +  340412.6595744681\n"
          ],
          "name": "stdout"
        }
      ]
    },
    {
      "cell_type": "markdown",
      "metadata": {
        "id": "CyzRXXWmsr40"
      },
      "source": [
        "### Ridge Regression\n"
      ]
    },
    {
      "cell_type": "markdown",
      "metadata": {
        "id": "i0kJUZdJtNtx"
      },
      "source": [
        "تاثیر ناچیزی داشت"
      ]
    },
    {
      "cell_type": "code",
      "metadata": {
        "id": "CN773G33steC",
        "outputId": "6898b053-559b-4393-a0a7-7119e75a6631",
        "colab": {
          "base_uri": "https://localhost:8080/",
          "height": 134
        }
      },
      "source": [
        "# fit a line to the data\n",
        "reg = Ridge(alpha=1).fit(x_scaled.reshape(-1, 2), y)\n",
        "\n",
        "# print regressions result\n",
        "print(\"score = {}\\n\".format(reg.score(x_scaled.reshape(-1, 2), y)))\n",
        "print(\"coeff = {},{}\\n\".format(reg.coef_[0],reg.coef_[1]))\n",
        "print(\"intercept = {}\\n\".format(reg.intercept_))\n",
        "print('Y = ', reg.coef_[0], 'X1 + ', reg.coef_[1], 'X2 + ', reg.intercept_)"
      ],
      "execution_count": 211,
      "outputs": [
        {
          "output_type": "stream",
          "text": [
            "score = 0.7324356141456507\n",
            "\n",
            "coeff = 106080.0214222221,-4594.750624435499\n",
            "\n",
            "intercept = 340412.6595744681\n",
            "\n",
            "Y =  106080.0214222221 X1 +  -4594.750624435499 X2 +  340412.6595744681\n"
          ],
          "name": "stdout"
        }
      ]
    }
  ]
}